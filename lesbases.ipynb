{
 "cells": [
  {
   "cell_type": "markdown",
   "metadata": {},
   "source": [
    "## Les bases Python\n",
    "#### 09/09/2024"
   ]
  },
  {
   "cell_type": "markdown",
   "metadata": {},
   "source": [
    "## INPUT"
   ]
  },
  {
   "cell_type": "code",
   "execution_count": 77,
   "metadata": {},
   "outputs": [],
   "source": [
    "var_input = input(\"Veuillez entrer un nombre\")"
   ]
  },
  {
   "cell_type": "code",
   "execution_count": 78,
   "metadata": {},
   "outputs": [
    {
     "name": "stdout",
     "output_type": "stream",
     "text": [
      "Voici le nombre :  1\n",
      "Voici le nombre : 1\n"
     ]
    }
   ],
   "source": [
    "print(\"Voici le nombre : \", var_input)\n",
    "print(\"Voici le nombre : \"+ var_input)"
   ]
  },
  {
   "cell_type": "markdown",
   "metadata": {},
   "source": [
    "On ne peut pas mettre plusieurs arguments dans un input  \n",
    "*ASTUCE* L'astuce est de mettre un print et entrer une variable d'input"
   ]
  },
  {
   "cell_type": "code",
   "execution_count": 79,
   "metadata": {},
   "outputs": [
    {
     "name": "stdout",
     "output_type": "stream",
     "text": [
      "Veuillez enter un nombre compris entre  1  et  10\n"
     ]
    }
   ],
   "source": [
    "min = 1\n",
    "max =10\n",
    "print(\"Veuillez enter un nombre compris entre \", min ,\" et \", max)\n",
    "var = input()"
   ]
  },
  {
   "cell_type": "markdown",
   "metadata": {},
   "source": [
    "## TEXTE"
   ]
  },
  {
   "cell_type": "markdown",
   "metadata": {},
   "source": [
    "Récupérer une lettre dans une chaine de caractère\n",
    "\n",
    "<p> Avant les deux points c'est inclu après les deux points c'est exclu </p>"
   ]
  },
  {
   "cell_type": "code",
   "execution_count": 80,
   "metadata": {},
   "outputs": [
    {
     "name": "stdout",
     "output_type": "stream",
     "text": [
      "B\n",
      "36\n",
      "e\n",
      "Bonjour l\n",
      "Bnor\n",
      "B epuorg airetO secnecil sel ruojnoB\n"
     ]
    }
   ],
   "source": [
    "texte = \"Bonjour les licences Oteria groupe B\"\n",
    "print(texte[0])\n",
    "print(len(texte))\n",
    "print(texte[len(texte)-3])\n",
    "print(texte[0:9])\n",
    "print(texte[0:7:2])\n",
    "print(texte[::-1])"
   ]
  },
  {
   "cell_type": "markdown",
   "metadata": {},
   "source": [
    "#### METHODE/FONCTION STR\n",
    "* SPLIT  \n",
    "Retirer des éléments dans une chaîne de caractère"
   ]
  },
  {
   "cell_type": "code",
   "execution_count": 81,
   "metadata": {},
   "outputs": [
    {
     "data": {
      "text/plain": [
       "['192', '168', '1', '12']"
      ]
     },
     "execution_count": 81,
     "metadata": {},
     "output_type": "execute_result"
    }
   ],
   "source": [
    "ip=\"192.168.1.12\"\n",
    "liste_split= ip.split(\".\")\n",
    "liste_split"
   ]
  },
  {
   "cell_type": "markdown",
   "metadata": {},
   "source": [
    "* JOIN  \n",
    "Joindre des éléments dans une liste de caractère"
   ]
  },
  {
   "cell_type": "code",
   "execution_count": 82,
   "metadata": {},
   "outputs": [
    {
     "data": {
      "text/plain": [
       "'192:168:1:12'"
      ]
     },
     "execution_count": 82,
     "metadata": {},
     "output_type": "execute_result"
    }
   ],
   "source": [
    "\":\".join(liste_split)"
   ]
  },
  {
   "cell_type": "markdown",
   "metadata": {},
   "source": [
    "* SWAPCASE  \n",
    "Inverse les majuscules et les minuscules"
   ]
  },
  {
   "cell_type": "code",
   "execution_count": 83,
   "metadata": {},
   "outputs": [
    {
     "data": {
      "text/plain": [
       "'    bONJOUR tOUT lE mONDE     '"
      ]
     },
     "execution_count": 83,
     "metadata": {},
     "output_type": "execute_result"
    }
   ],
   "source": [
    "b = \"    Bonjour Tout Le Monde     \"\n",
    "b.swapcase()"
   ]
  },
  {
   "cell_type": "markdown",
   "metadata": {},
   "source": [
    "* RSTRIP/LSTRIP  \n",
    "Retire les espaces au début et à la fin"
   ]
  },
  {
   "cell_type": "code",
   "execution_count": 84,
   "metadata": {},
   "outputs": [
    {
     "name": "stdout",
     "output_type": "stream",
     "text": [
      "    Bonjour Tout Le Monde\n",
      "Bonjour Tout Le Monde     \n"
     ]
    }
   ],
   "source": [
    "print(b.rstrip())\n",
    "print(b.lstrip())"
   ]
  },
  {
   "cell_type": "code",
   "execution_count": 85,
   "metadata": {},
   "outputs": [
    {
     "data": {
      "text/plain": [
       "['__add__',\n",
       " '__class__',\n",
       " '__contains__',\n",
       " '__delattr__',\n",
       " '__dir__',\n",
       " '__doc__',\n",
       " '__eq__',\n",
       " '__format__',\n",
       " '__ge__',\n",
       " '__getattribute__',\n",
       " '__getitem__',\n",
       " '__getnewargs__',\n",
       " '__getstate__',\n",
       " '__gt__',\n",
       " '__hash__',\n",
       " '__init__',\n",
       " '__init_subclass__',\n",
       " '__iter__',\n",
       " '__le__',\n",
       " '__len__',\n",
       " '__lt__',\n",
       " '__mod__',\n",
       " '__mul__',\n",
       " '__ne__',\n",
       " '__new__',\n",
       " '__reduce__',\n",
       " '__reduce_ex__',\n",
       " '__repr__',\n",
       " '__rmod__',\n",
       " '__rmul__',\n",
       " '__setattr__',\n",
       " '__sizeof__',\n",
       " '__str__',\n",
       " '__subclasshook__',\n",
       " 'capitalize',\n",
       " 'casefold',\n",
       " 'center',\n",
       " 'count',\n",
       " 'encode',\n",
       " 'endswith',\n",
       " 'expandtabs',\n",
       " 'find',\n",
       " 'format',\n",
       " 'format_map',\n",
       " 'index',\n",
       " 'isalnum',\n",
       " 'isalpha',\n",
       " 'isascii',\n",
       " 'isdecimal',\n",
       " 'isdigit',\n",
       " 'isidentifier',\n",
       " 'islower',\n",
       " 'isnumeric',\n",
       " 'isprintable',\n",
       " 'isspace',\n",
       " 'istitle',\n",
       " 'isupper',\n",
       " 'join',\n",
       " 'ljust',\n",
       " 'lower',\n",
       " 'lstrip',\n",
       " 'maketrans',\n",
       " 'partition',\n",
       " 'removeprefix',\n",
       " 'removesuffix',\n",
       " 'replace',\n",
       " 'rfind',\n",
       " 'rindex',\n",
       " 'rjust',\n",
       " 'rpartition',\n",
       " 'rsplit',\n",
       " 'rstrip',\n",
       " 'split',\n",
       " 'splitlines',\n",
       " 'startswith',\n",
       " 'strip',\n",
       " 'swapcase',\n",
       " 'title',\n",
       " 'translate',\n",
       " 'upper',\n",
       " 'zfill']"
      ]
     },
     "execution_count": 85,
     "metadata": {},
     "output_type": "execute_result"
    }
   ],
   "source": [
    "dir(str)"
   ]
  },
  {
   "cell_type": "markdown",
   "metadata": {},
   "source": [
    "## LISTE"
   ]
  },
  {
   "cell_type": "code",
   "execution_count": 86,
   "metadata": {},
   "outputs": [
    {
     "data": {
      "text/plain": [
       "list"
      ]
     },
     "execution_count": 86,
     "metadata": {},
     "output_type": "execute_result"
    }
   ],
   "source": [
    "l=[]\n",
    "type(l)"
   ]
  },
  {
   "cell_type": "code",
   "execution_count": 87,
   "metadata": {},
   "outputs": [
    {
     "name": "stdout",
     "output_type": "stream",
     "text": [
      "2\n",
      "7\n",
      "6\n",
      "[1, 2, 12, 4, 5, 6, 7]\n",
      "[1, 2, 12, 'texte', 5, 6, 7]\n",
      "[1, 2, 3, [58, 69, 45], 5, 6]\n",
      "45\n"
     ]
    }
   ],
   "source": [
    "l=[1,2,3,4,5,6,7]\n",
    "print(l[1])\n",
    "print(l[-1])\n",
    "print(l[len(l)-2])\n",
    "l[2]=12\n",
    "print(l)\n",
    "l[3]= \"texte\"\n",
    "print(l)\n",
    "liste_liste = [1,2,3,[58,69,45],5,6]\n",
    "print(liste_liste)\n",
    "print(liste_liste[3][2])"
   ]
  },
  {
   "cell_type": "markdown",
   "metadata": {},
   "source": [
    "#### METHODE/FONCTION LISTE"
   ]
  },
  {
   "cell_type": "markdown",
   "metadata": {},
   "source": [
    "* APPEND  \n",
    "Ajoute un élément à la liste"
   ]
  },
  {
   "cell_type": "code",
   "execution_count": 88,
   "metadata": {},
   "outputs": [
    {
     "name": "stdout",
     "output_type": "stream",
     "text": [
      "[1, 2, 12, 'texte', 5, 6, 7, 10]\n"
     ]
    }
   ],
   "source": [
    "l.append(10)\n",
    "print(l)"
   ]
  },
  {
   "cell_type": "markdown",
   "metadata": {},
   "source": [
    "* POP  \n",
    "Retire une élément de la liste"
   ]
  },
  {
   "cell_type": "code",
   "execution_count": 89,
   "metadata": {},
   "outputs": [
    {
     "name": "stdout",
     "output_type": "stream",
     "text": [
      "[1, 2, 12, 5, 6, 7, 10]\n"
     ]
    }
   ],
   "source": [
    "l.pop(3)\n",
    "print(l)"
   ]
  },
  {
   "cell_type": "markdown",
   "metadata": {},
   "source": [
    "* INSERT"
   ]
  },
  {
   "cell_type": "code",
   "execution_count": 90,
   "metadata": {},
   "outputs": [
    {
     "name": "stdout",
     "output_type": "stream",
     "text": [
      "[1, 32, 2, 12, 5, 6, 7, 10]\n"
     ]
    }
   ],
   "source": [
    "l.insert(1,32)\n",
    "print(l)"
   ]
  },
  {
   "cell_type": "markdown",
   "metadata": {},
   "source": [
    "* SORT"
   ]
  },
  {
   "cell_type": "code",
   "execution_count": 91,
   "metadata": {},
   "outputs": [
    {
     "name": "stdout",
     "output_type": "stream",
     "text": [
      "[1, 2, 5, 6, 7, 10, 12, 32]\n"
     ]
    }
   ],
   "source": [
    "l.sort()\n",
    "print(l)"
   ]
  },
  {
   "cell_type": "markdown",
   "metadata": {},
   "source": [
    "* REVERSE"
   ]
  },
  {
   "cell_type": "code",
   "execution_count": 92,
   "metadata": {},
   "outputs": [
    {
     "name": "stdout",
     "output_type": "stream",
     "text": [
      "[32, 12, 10, 7, 6, 5, 2, 1]\n"
     ]
    }
   ],
   "source": [
    "l.reverse()\n",
    "print(l)"
   ]
  },
  {
   "cell_type": "code",
   "execution_count": 93,
   "metadata": {},
   "outputs": [
    {
     "data": {
      "text/plain": [
       "['__add__',\n",
       " '__class__',\n",
       " '__class_getitem__',\n",
       " '__contains__',\n",
       " '__delattr__',\n",
       " '__delitem__',\n",
       " '__dir__',\n",
       " '__doc__',\n",
       " '__eq__',\n",
       " '__format__',\n",
       " '__ge__',\n",
       " '__getattribute__',\n",
       " '__getitem__',\n",
       " '__getstate__',\n",
       " '__gt__',\n",
       " '__hash__',\n",
       " '__iadd__',\n",
       " '__imul__',\n",
       " '__init__',\n",
       " '__init_subclass__',\n",
       " '__iter__',\n",
       " '__le__',\n",
       " '__len__',\n",
       " '__lt__',\n",
       " '__mul__',\n",
       " '__ne__',\n",
       " '__new__',\n",
       " '__reduce__',\n",
       " '__reduce_ex__',\n",
       " '__repr__',\n",
       " '__reversed__',\n",
       " '__rmul__',\n",
       " '__setattr__',\n",
       " '__setitem__',\n",
       " '__sizeof__',\n",
       " '__str__',\n",
       " '__subclasshook__',\n",
       " 'append',\n",
       " 'clear',\n",
       " 'copy',\n",
       " 'count',\n",
       " 'extend',\n",
       " 'index',\n",
       " 'insert',\n",
       " 'pop',\n",
       " 'remove',\n",
       " 'reverse',\n",
       " 'sort']"
      ]
     },
     "execution_count": 93,
     "metadata": {},
     "output_type": "execute_result"
    }
   ],
   "source": [
    "dir(list)"
   ]
  },
  {
   "cell_type": "markdown",
   "metadata": {},
   "source": [
    "## DICTIONNAIRE"
   ]
  },
  {
   "cell_type": "code",
   "execution_count": 94,
   "metadata": {},
   "outputs": [
    {
     "name": "stdout",
     "output_type": "stream",
     "text": [
      "4\n"
     ]
    }
   ],
   "source": [
    "d={\"pommes\": 1.2, \"poires\": 1.5, \"kiwi\" : 2.1, \"bananes\": 1.4}\n",
    "print(len(d))"
   ]
  },
  {
   "cell_type": "code",
   "execution_count": 95,
   "metadata": {},
   "outputs": [
    {
     "data": {
      "text/plain": [
       "2.1"
      ]
     },
     "execution_count": 95,
     "metadata": {},
     "output_type": "execute_result"
    }
   ],
   "source": [
    "d[\"kiwi\"]"
   ]
  },
  {
   "cell_type": "markdown",
   "metadata": {},
   "source": [
    "Modifie un élément du dictionnaire"
   ]
  },
  {
   "cell_type": "code",
   "execution_count": 96,
   "metadata": {},
   "outputs": [
    {
     "name": "stdout",
     "output_type": "stream",
     "text": [
      "{'pommes': 1.2, 'poires': 1.5, 'kiwi': 4, 'bananes': 1.4}\n"
     ]
    }
   ],
   "source": [
    "d[\"kiwi\"] = 4\n",
    "print(d)"
   ]
  },
  {
   "cell_type": "code",
   "execution_count": 97,
   "metadata": {},
   "outputs": [
    {
     "name": "stdout",
     "output_type": "stream",
     "text": [
      "7\n"
     ]
    }
   ],
   "source": [
    "d[\"abricot\"]=1.7\n",
    "print(7)"
   ]
  },
  {
   "cell_type": "markdown",
   "metadata": {},
   "source": [
    "##### METHODE/FONCTION DICTIONNAIRE\n",
    "* KEYS"
   ]
  },
  {
   "cell_type": "code",
   "execution_count": 98,
   "metadata": {},
   "outputs": [
    {
     "data": {
      "text/plain": [
       "dict_keys(['pommes', 'poires', 'kiwi', 'bananes', 'abricot'])"
      ]
     },
     "execution_count": 98,
     "metadata": {},
     "output_type": "execute_result"
    }
   ],
   "source": [
    "d.keys()"
   ]
  },
  {
   "cell_type": "markdown",
   "metadata": {},
   "source": [
    "* ITEMS"
   ]
  },
  {
   "cell_type": "code",
   "execution_count": 99,
   "metadata": {},
   "outputs": [
    {
     "data": {
      "text/plain": [
       "dict_items([('pommes', 1.2), ('poires', 1.5), ('kiwi', 4), ('bananes', 1.4), ('abricot', 1.7)])"
      ]
     },
     "execution_count": 99,
     "metadata": {},
     "output_type": "execute_result"
    }
   ],
   "source": [
    "d.items()"
   ]
  },
  {
   "cell_type": "code",
   "execution_count": 100,
   "metadata": {},
   "outputs": [
    {
     "data": {
      "text/plain": [
       "['__class__',\n",
       " '__class_getitem__',\n",
       " '__contains__',\n",
       " '__delattr__',\n",
       " '__delitem__',\n",
       " '__dir__',\n",
       " '__doc__',\n",
       " '__eq__',\n",
       " '__format__',\n",
       " '__ge__',\n",
       " '__getattribute__',\n",
       " '__getitem__',\n",
       " '__getstate__',\n",
       " '__gt__',\n",
       " '__hash__',\n",
       " '__init__',\n",
       " '__init_subclass__',\n",
       " '__ior__',\n",
       " '__iter__',\n",
       " '__le__',\n",
       " '__len__',\n",
       " '__lt__',\n",
       " '__ne__',\n",
       " '__new__',\n",
       " '__or__',\n",
       " '__reduce__',\n",
       " '__reduce_ex__',\n",
       " '__repr__',\n",
       " '__reversed__',\n",
       " '__ror__',\n",
       " '__setattr__',\n",
       " '__setitem__',\n",
       " '__sizeof__',\n",
       " '__str__',\n",
       " '__subclasshook__',\n",
       " 'clear',\n",
       " 'copy',\n",
       " 'fromkeys',\n",
       " 'get',\n",
       " 'items',\n",
       " 'keys',\n",
       " 'pop',\n",
       " 'popitem',\n",
       " 'setdefault',\n",
       " 'update',\n",
       " 'values']"
      ]
     },
     "execution_count": 100,
     "metadata": {},
     "output_type": "execute_result"
    }
   ],
   "source": [
    "dir(dict)"
   ]
  },
  {
   "cell_type": "markdown",
   "metadata": {},
   "source": [
    "## TUPLE"
   ]
  },
  {
   "cell_type": "code",
   "execution_count": 101,
   "metadata": {},
   "outputs": [
    {
     "name": "stdout",
     "output_type": "stream",
     "text": [
      "(1, 2, 3)\n"
     ]
    }
   ],
   "source": [
    "l=[1,2,3]\n",
    "t=tuple(l)\n",
    "print(t)"
   ]
  },
  {
   "cell_type": "markdown",
   "metadata": {},
   "source": [
    "transformer en liste"
   ]
  },
  {
   "cell_type": "code",
   "execution_count": 102,
   "metadata": {},
   "outputs": [
    {
     "name": "stdout",
     "output_type": "stream",
     "text": [
      "[1, 2, 3]\n"
     ]
    }
   ],
   "source": [
    "l1 = list(t)\n",
    "print(l1)"
   ]
  },
  {
   "cell_type": "code",
   "execution_count": 103,
   "metadata": {},
   "outputs": [
    {
     "data": {
      "text/plain": [
       "['__add__',\n",
       " '__class__',\n",
       " '__class_getitem__',\n",
       " '__contains__',\n",
       " '__delattr__',\n",
       " '__dir__',\n",
       " '__doc__',\n",
       " '__eq__',\n",
       " '__format__',\n",
       " '__ge__',\n",
       " '__getattribute__',\n",
       " '__getitem__',\n",
       " '__getnewargs__',\n",
       " '__getstate__',\n",
       " '__gt__',\n",
       " '__hash__',\n",
       " '__init__',\n",
       " '__init_subclass__',\n",
       " '__iter__',\n",
       " '__le__',\n",
       " '__len__',\n",
       " '__lt__',\n",
       " '__mul__',\n",
       " '__ne__',\n",
       " '__new__',\n",
       " '__reduce__',\n",
       " '__reduce_ex__',\n",
       " '__repr__',\n",
       " '__rmul__',\n",
       " '__setattr__',\n",
       " '__sizeof__',\n",
       " '__str__',\n",
       " '__subclasshook__',\n",
       " 'count',\n",
       " 'index']"
      ]
     },
     "execution_count": 103,
     "metadata": {},
     "output_type": "execute_result"
    }
   ],
   "source": [
    "dir(tuple)"
   ]
  },
  {
   "cell_type": "markdown",
   "metadata": {},
   "source": [
    "## CONDITION\n",
    "* IF/ELIF/ELSE"
   ]
  },
  {
   "cell_type": "code",
   "execution_count": 106,
   "metadata": {},
   "outputs": [
    {
     "name": "stdout",
     "output_type": "stream",
     "text": [
      "Le nombre que vous avez entré est :  12\n",
      "Votre nombre est bien compris entre 10 et 20\n"
     ]
    }
   ],
   "source": [
    "nbr = int(input(\"Veuillez entrer un nombre compris entre 10 et 20\"))\n",
    "print(\"Le nombre que vous avez entré est : \", nbr)\n",
    "\n",
    "if(nbr<10):\n",
    "    print(\"Votre nombre est plus petit que 10\")\n",
    "elif(nbr>20):\n",
    "    print(\"votre nombre est supérieur à 20\")\n",
    "else :\n",
    "    print(\"Votre nombre est bien compris entre 10 et 20\")"
   ]
  },
  {
   "cell_type": "markdown",
   "metadata": {},
   "source": [
    "== égale  \n",
    "!= différent  \n",
    "\">\" supérieur  \n",
    "\">=\" supérieur ou égale  \n",
    "< inférieur  \n",
    "<= inférieur ou égale  "
   ]
  },
  {
   "cell_type": "code",
   "execution_count": 108,
   "metadata": {},
   "outputs": [
    {
     "name": "stdout",
     "output_type": "stream",
     "text": [
      "Votre nombre est bien compris entre 10 et 20\n"
     ]
    }
   ],
   "source": [
    "if(10<=nbr<=20):\n",
    "    print(\"Votre nombre est bien compris entre 10 et 20\")\n",
    "else :\n",
    "    print(\"Votre nombre n'est pas compris entre 10 et 20\")"
   ]
  },
  {
   "cell_type": "code",
   "execution_count": null,
   "metadata": {},
   "outputs": [],
   "source": [
    "nb1 = int(input(\"Veuillez entrer un premier nombre\"))\n",
    "nb2 = int(input(\"Veuillez entrer un deuxième nombre\"))\n",
    "nb3 = int(input(\"Veuillez entrer un troisième nombre\"))\n",
    "\n",
    "if((nb1==nb2 or nb2==nb3 or nb3==nb1) and not nb1== nb2 == nb3):\n",
    "    print(\"Deux nombres sont identiques\")\n",
    "else : \n",
    "    print(\"Aucun\")"
   ]
  },
  {
   "cell_type": "markdown",
   "metadata": {},
   "source": [
    "## BOUCLE"
   ]
  },
  {
   "cell_type": "markdown",
   "metadata": {},
   "source": [
    "#### FOR"
   ]
  },
  {
   "cell_type": "code",
   "execution_count": 110,
   "metadata": {},
   "outputs": [
    {
     "name": "stdout",
     "output_type": "stream",
     "text": [
      "B\n",
      "o\n",
      "n\n",
      "j\n",
      "o\n",
      "u\n",
      "r\n",
      " \n",
      "t\n",
      "o\n",
      "u\n",
      "t\n",
      " \n",
      "l\n",
      "e\n",
      " \n",
      "m\n",
      "o\n",
      "n\n",
      "d\n",
      "e\n"
     ]
    }
   ],
   "source": [
    "for var in \"Bonjour tout le monde\":\n",
    "    print(var)"
   ]
  },
  {
   "cell_type": "code",
   "execution_count": 111,
   "metadata": {},
   "outputs": [
    {
     "name": "stdout",
     "output_type": "stream",
     "text": [
      "B\to\tn\tj\to\tu\tr\t \tt\to\tu\tt\t \tl\te\t \tm\to\tn\td\te\t"
     ]
    }
   ],
   "source": [
    "for var in \"Bonjour tout le monde\":\n",
    "    print(var, end=\"\\t\")"
   ]
  },
  {
   "cell_type": "code",
   "execution_count": 114,
   "metadata": {},
   "outputs": [
    {
     "name": "stdout",
     "output_type": "stream",
     "text": [
      "Bonjour tout le monde"
     ]
    }
   ],
   "source": [
    "for var in \"Bonjour tout le monde\":\n",
    "    print(var, end=\"\")"
   ]
  },
  {
   "cell_type": "code",
   "execution_count": 118,
   "metadata": {},
   "outputs": [
    {
     "name": "stdout",
     "output_type": "stream",
     "text": [
      "2\n",
      "4\n",
      "5\n",
      "6\n",
      "8\n",
      "222\n",
      "444\n",
      "333\n"
     ]
    }
   ],
   "source": [
    "liste_boucle=[2,4,5,6,8,222,444,333]\n",
    "for i in range(0, len(liste_boucle)):\n",
    "    print(liste_boucle[i])"
   ]
  },
  {
   "cell_type": "markdown",
   "metadata": {},
   "source": [
    "Génère adresse Ip pour le réseau local"
   ]
  },
  {
   "cell_type": "code",
   "execution_count": 123,
   "metadata": {},
   "outputs": [
    {
     "name": "stdout",
     "output_type": "stream",
     "text": [
      "192.168.1.160\n",
      "['192', '168', '1', '160']\n",
      "['192', '168', '1']\n",
      "192.168.1\n",
      "192.168.1.1\t192.168.1.2\t192.168.1.3\t192.168.1.4\t192.168.1.5\t192.168.1.6\t192.168.1.7\t192.168.1.8\t192.168.1.9\t192.168.1.10\t192.168.1.11\t192.168.1.12\t192.168.1.13\t192.168.1.14\t192.168.1.15\t192.168.1.16\t192.168.1.17\t192.168.1.18\t192.168.1.19\t192.168.1.20\t192.168.1.21\t192.168.1.22\t192.168.1.23\t192.168.1.24\t192.168.1.25\t192.168.1.26\t192.168.1.27\t192.168.1.28\t192.168.1.29\t192.168.1.30\t192.168.1.31\t192.168.1.32\t192.168.1.33\t192.168.1.34\t192.168.1.35\t192.168.1.36\t192.168.1.37\t192.168.1.38\t192.168.1.39\t192.168.1.40\t192.168.1.41\t192.168.1.42\t192.168.1.43\t192.168.1.44\t192.168.1.45\t192.168.1.46\t192.168.1.47\t192.168.1.48\t192.168.1.49\t192.168.1.50\t192.168.1.51\t192.168.1.52\t192.168.1.53\t192.168.1.54\t192.168.1.55\t192.168.1.56\t192.168.1.57\t192.168.1.58\t192.168.1.59\t192.168.1.60\t192.168.1.61\t192.168.1.62\t192.168.1.63\t192.168.1.64\t192.168.1.65\t192.168.1.66\t192.168.1.67\t192.168.1.68\t192.168.1.69\t192.168.1.70\t192.168.1.71\t192.168.1.72\t192.168.1.73\t192.168.1.74\t192.168.1.75\t192.168.1.76\t192.168.1.77\t192.168.1.78\t192.168.1.79\t192.168.1.80\t192.168.1.81\t192.168.1.82\t192.168.1.83\t192.168.1.84\t192.168.1.85\t192.168.1.86\t192.168.1.87\t192.168.1.88\t192.168.1.89\t192.168.1.90\t192.168.1.91\t192.168.1.92\t192.168.1.93\t192.168.1.94\t192.168.1.95\t192.168.1.96\t192.168.1.97\t192.168.1.98\t192.168.1.99\t192.168.1.100\t192.168.1.101\t192.168.1.102\t192.168.1.103\t192.168.1.104\t192.168.1.105\t192.168.1.106\t192.168.1.107\t192.168.1.108\t192.168.1.109\t192.168.1.110\t192.168.1.111\t192.168.1.112\t192.168.1.113\t192.168.1.114\t192.168.1.115\t192.168.1.116\t192.168.1.117\t192.168.1.118\t192.168.1.119\t192.168.1.120\t192.168.1.121\t192.168.1.122\t192.168.1.123\t192.168.1.124\t192.168.1.125\t192.168.1.126\t192.168.1.127\t192.168.1.128\t192.168.1.129\t192.168.1.130\t192.168.1.131\t192.168.1.132\t192.168.1.133\t192.168.1.134\t192.168.1.135\t192.168.1.136\t192.168.1.137\t192.168.1.138\t192.168.1.139\t192.168.1.140\t192.168.1.141\t192.168.1.142\t192.168.1.143\t192.168.1.144\t192.168.1.145\t192.168.1.146\t192.168.1.147\t192.168.1.148\t192.168.1.149\t192.168.1.150\t192.168.1.151\t192.168.1.152\t192.168.1.153\t192.168.1.154\t192.168.1.155\t192.168.1.156\t192.168.1.157\t192.168.1.158\t192.168.1.159\t192.168.1.160\t192.168.1.161\t192.168.1.162\t192.168.1.163\t192.168.1.164\t192.168.1.165\t192.168.1.166\t192.168.1.167\t192.168.1.168\t192.168.1.169\t192.168.1.170\t192.168.1.171\t192.168.1.172\t192.168.1.173\t192.168.1.174\t192.168.1.175\t192.168.1.176\t192.168.1.177\t192.168.1.178\t192.168.1.179\t192.168.1.180\t192.168.1.181\t192.168.1.182\t192.168.1.183\t192.168.1.184\t192.168.1.185\t192.168.1.186\t192.168.1.187\t192.168.1.188\t192.168.1.189\t192.168.1.190\t192.168.1.191\t192.168.1.192\t192.168.1.193\t192.168.1.194\t192.168.1.195\t192.168.1.196\t192.168.1.197\t192.168.1.198\t192.168.1.199\t192.168.1.200\t192.168.1.201\t192.168.1.202\t192.168.1.203\t192.168.1.204\t192.168.1.205\t192.168.1.206\t192.168.1.207\t192.168.1.208\t192.168.1.209\t192.168.1.210\t192.168.1.211\t192.168.1.212\t192.168.1.213\t192.168.1.214\t192.168.1.215\t192.168.1.216\t192.168.1.217\t192.168.1.218\t192.168.1.219\t192.168.1.220\t192.168.1.221\t192.168.1.222\t192.168.1.223\t192.168.1.224\t192.168.1.225\t192.168.1.226\t192.168.1.227\t192.168.1.228\t192.168.1.229\t192.168.1.230\t192.168.1.231\t192.168.1.232\t192.168.1.233\t192.168.1.234\t192.168.1.235\t192.168.1.236\t192.168.1.237\t192.168.1.238\t192.168.1.239\t192.168.1.240\t192.168.1.241\t192.168.1.242\t192.168.1.243\t192.168.1.244\t192.168.1.245\t192.168.1.246\t192.168.1.247\t192.168.1.248\t192.168.1.249\t192.168.1.250\t192.168.1.251\t192.168.1.252\t192.168.1.253\t192.168.1.254\t"
     ]
    }
   ],
   "source": [
    "add = input(\"Entrer une adresse\")\n",
    "print(add)\n",
    "add= add.split(\".\")\n",
    "print(add)\n",
    "add.pop()\n",
    "print(add)\n",
    "add=\".\".join(add)\n",
    "print(add)\n",
    "\n",
    "for fin in range(1,255):\n",
    "    print(add+\".\"+str(fin), end=\"\\t\")"
   ]
  },
  {
   "cell_type": "code",
   "execution_count": 125,
   "metadata": {},
   "outputs": [
    {
     "name": "stdout",
     "output_type": "stream",
     "text": [
      "key =  pommes\n",
      "valeur =  2\n",
      "key =  poires\n",
      "valeur =  4\n",
      "key =  kiwi\n",
      "valeur =  5\n",
      "key =  bananes\n",
      "valeur =  3\n"
     ]
    }
   ],
   "source": [
    "d={\"pommes\":2, \"poires\": 4, \"kiwi\": 5, \"bananes\": 3}\n",
    "for key, valeur in d.items():\n",
    "    print(\"key = \", key)\n",
    "    print(\"valeur = \", valeur)"
   ]
  },
  {
   "cell_type": "markdown",
   "metadata": {},
   "source": [
    "#### WHILE"
   ]
  },
  {
   "cell_type": "code",
   "execution_count": 127,
   "metadata": {},
   "outputs": [
    {
     "name": "stdout",
     "output_type": "stream",
     "text": [
      "10\n",
      "9\n",
      "8\n",
      "7\n",
      "6\n",
      "5\n",
      "4\n",
      "3\n",
      "2\n",
      "1\n"
     ]
    }
   ],
   "source": [
    "import time\n",
    "nb = int(input(\"Veuillez entrer un nombre\"))\n",
    "while(nb>0):\n",
    "    print(nb)\n",
    "    nb-=1\n",
    "    time.sleep(0.5)"
   ]
  },
  {
   "cell_type": "markdown",
   "metadata": {},
   "source": [
    "## FONCTION"
   ]
  },
  {
   "cell_type": "code",
   "execution_count": 130,
   "metadata": {},
   "outputs": [
    {
     "name": "stdout",
     "output_type": "stream",
     "text": [
      "100\n"
     ]
    }
   ],
   "source": [
    "def calcul(a):\n",
    "    result = a**2\n",
    "    return result\n",
    "\n",
    "def prog():\n",
    "    nb = int(input(\"Veuillez enter un nombre\\n\"))\n",
    "    return calcul(nb)\n",
    "print(prog())"
   ]
  },
  {
   "cell_type": "code",
   "execution_count": 140,
   "metadata": {},
   "outputs": [
    {
     "name": "stdout",
     "output_type": "stream",
     "text": [
      "Le carré du premier nombre  100\n",
      "La multiplication des deux nombres  20\n"
     ]
    }
   ],
   "source": [
    "def calcul2(a, b):\n",
    "    \"\"\"\n",
    "    Explication\n",
    "    \"\"\"\n",
    "    return a*a, a*b\n",
    "\n",
    "def prog2():\n",
    "    \"\"\"\n",
    "    Explication\n",
    "    \"\"\"\n",
    "    nb = int(input(\"Veuillez enter un nombre\\n\"))\n",
    "    nb2 = int(input(\"Veuillez enter un autre nombre\\n\"))\n",
    "    resultat, resultat2 = calcul2(nb, nb2)\n",
    "    print(\"Le carré du premier nombre \", resultat)\n",
    "    print(\"La multiplication des deux nombres \", resultat2)\n",
    "prog2()\n",
    "\n",
    "# Commentaire"
   ]
  },
  {
   "cell_type": "markdown",
   "metadata": {},
   "source": [
    "## OPERATEUR\n",
    "#### Division"
   ]
  },
  {
   "cell_type": "code",
   "execution_count": 7,
   "metadata": {},
   "outputs": [
    {
     "data": {
      "text/plain": [
       "5"
      ]
     },
     "execution_count": 7,
     "metadata": {},
     "output_type": "execute_result"
    }
   ],
   "source": [
    "a = 56//10\n",
    "a"
   ]
  },
  {
   "cell_type": "code",
   "execution_count": 6,
   "metadata": {},
   "outputs": [
    {
     "data": {
      "text/plain": [
       "6"
      ]
     },
     "execution_count": 6,
     "metadata": {},
     "output_type": "execute_result"
    }
   ],
   "source": [
    "b = 56 % 10\n",
    "b"
   ]
  },
  {
   "cell_type": "markdown",
   "metadata": {},
   "source": [
    "## Exercice"
   ]
  },
  {
   "cell_type": "markdown",
   "metadata": {},
   "source": [
    "#### Exercice 1 \n",
    "* Question A"
   ]
  },
  {
   "cell_type": "code",
   "execution_count": 8,
   "metadata": {},
   "outputs": [
    {
     "data": {
      "text/plain": [
       "1152"
      ]
     },
     "execution_count": 8,
     "metadata": {},
     "output_type": "execute_result"
    }
   ],
   "source": [
    "def calcul(a, b):\n",
    "    n1 = a//10\n",
    "    n2 = a%10\n",
    "    return n1 * 1000 + b*10 + n2\n",
    "calcul(12, 15)"
   ]
  },
  {
   "cell_type": "code",
   "execution_count": 151,
   "metadata": {},
   "outputs": [
    {
     "name": "stdout",
     "output_type": "stream",
     "text": [
      "5216\n"
     ]
    }
   ],
   "source": [
    "def exo1(a, b):\n",
    "    resultat_exo = a[0] + b + a[1]\n",
    "    return int(resultat_exo)\n",
    "    \n",
    "a=\"56\"\n",
    "b=\"21\"\n",
    "print(exo1(a,b))"
   ]
  },
  {
   "cell_type": "markdown",
   "metadata": {},
   "source": [
    "* Question B"
   ]
  },
  {
   "cell_type": "code",
   "execution_count": null,
   "metadata": {},
   "outputs": [],
   "source": [
    "def saisieInt(min, max):\n",
    "    nb = int(input(\"Entrez un nombre compris entre \"+ str(min)+\" et \"+str(max)))\n",
    "    while(not(min <= nb and max > nb)):\n",
    "        print(\"Vous vous etes trompé\")\n",
    "        nb = int(input(\"[-] Erreur : Resaisie la valeur\"))\n",
    "    return nb\n"
   ]
  },
  {
   "cell_type": "code",
   "execution_count": 3,
   "metadata": {},
   "outputs": [],
   "source": [
    "def saisieInt(min, max):\n",
    "    print(\"Veuillez entrer une valeur comprise entre \", min ,\" et \", max)\n",
    "    resultat_demande= int(input())\n",
    "    while(resultat_demande > max or resultat_demande < min):\n",
    "        resultat_demande= int(input(\"[-] Erreur : Resaisie la valeur\"))\n",
    "    return resultat_demande\n",
    "#print(saisieInt(1, 10))\n"
   ]
  },
  {
   "cell_type": "markdown",
   "metadata": {},
   "source": [
    "* Question C"
   ]
  },
  {
   "cell_type": "code",
   "execution_count": 5,
   "metadata": {},
   "outputs": [
    {
     "name": "stdout",
     "output_type": "stream",
     "text": [
      "Veuillez entrer une valeur comprise entre  10  et  99\n"
     ]
    },
    {
     "data": {
      "text/plain": [
       "50"
      ]
     },
     "execution_count": 5,
     "metadata": {},
     "output_type": "execute_result"
    }
   ],
   "source": [
    "def demandeEntier():\n",
    "    min=int(input(\"Veuillez entrer un minimum compris entre 10 et 99\"))\n",
    "    max=int(input(\"Veuillez entrer un nombre max compris entre 10 et 99\"))\n",
    "    while(min>99 or min<10):\n",
    "        min=int(input(\"Veuillez entrer un minimum compris entre 10 et 99\"))\n",
    "    while(max>99 or max<99):\n",
    "        max=int(input(\"Veuillez entrer un nombre max compris entre 10 et 99\"))\n",
    "    while(min>=max):\n",
    "        min=int(input(\"Veuillez choisir un minimum plus petit que le max\")) \n",
    "    resultat_chercher=saisieInt(min,max)\n",
    "    return resultat_chercher\n",
    "demandeEntier()"
   ]
  },
  {
   "cell_type": "markdown",
   "metadata": {},
   "source": [
    "* Question D"
   ]
  },
  {
   "cell_type": "code",
   "execution_count": null,
   "metadata": {},
   "outputs": [],
   "source": []
  },
  {
   "cell_type": "markdown",
   "metadata": {},
   "source": [
    "#### Exercice 2"
   ]
  },
  {
   "cell_type": "code",
   "execution_count": 15,
   "metadata": {},
   "outputs": [
    {
     "name": "stdout",
     "output_type": "stream",
     "text": [
      "2159.856\n"
     ]
    }
   ],
   "source": [
    "def demande_utilisateur():\n",
    "    age = int(input(\"Pouvez vous entrer vôtre age ?\"))\n",
    "    poids = float(input(\"Pouvez vous entrer vôtre poids en kilo ?\"))\n",
    "    taille = int(input(\"Pouvez vous entrer vôtre taille en cm ?\"))\n",
    "    sexe = str(input(\"Pouvez vous entrer vôtre sexe F/H ?\"))\n",
    "    niveau = float(input(\"Quelle est votre niveau d'activité ? Sédentaire : 1, Très faible activité = 1.2, Activité légère = 1.4, Activité modérée = 1.6, Haute activité = 1.8, Activité extrême = 2\"))\n",
    "    souhait = str(input(\"Vous souhaitez Maigrir (M) ou Grossir (G)\"))\n",
    "\n",
    "    return age, poids, taille, sexe, niveau, souhait\n",
    "\n",
    "def calcul_brm():\n",
    "    age, poids, taille, sexe, niveau, souhait = demande_utilisateur()\n",
    "\n",
    "    if(sexe ==\"H\"):\n",
    "        brm = 66 + (13.7 * poids) + (5 * taille ) - (6.8 * age)\n",
    "    else :\n",
    "        brm = 66 + (9.6 * poids) + (1.7 * taille ) - (4.7 * age)\n",
    "    \n",
    "    brma = brm * niveau\n",
    "\n",
    "    if(souhait==\"M\"):\n",
    "        brma = brma + ((brma * 10)/100)\n",
    "    else :\n",
    "        brma = brma - ((brma * 10)/100)\n",
    "    return brma\n",
    "print(calcul_brm())"
   ]
  },
  {
   "cell_type": "markdown",
   "metadata": {},
   "source": [
    "#### Exercice 3\n",
    "* Question A"
   ]
  },
  {
   "cell_type": "code",
   "execution_count": 29,
   "metadata": {},
   "outputs": [
    {
     "name": "stdout",
     "output_type": "stream",
     "text": [
      " Vous avez gagné en 2 coups\n"
     ]
    }
   ],
   "source": [
    "import random\n",
    "def justeprix(nbrmax):\n",
    "    nombreDeBase= random.randint(1,nbrmax)\n",
    "    nombreDevineDepart=int(input(\"Devine le nombre aléatoire compris entre 1 et\" + str(nbrmax)))\n",
    "    nombreDevine = nombreDevineDepart\n",
    "\n",
    "    compteur = 0\n",
    "    while(nombreDevine != nombreDeBase):\n",
    "        compteur +=1\n",
    "        if(nombreDevine > nombreDeBase):\n",
    "            nombreDevine= int(input(\"C'est moins essaye encore\"))\n",
    "        else :\n",
    "            nombreDevine= int(input(\"C'est plus essaye encore\"))\n",
    "    phrase =\" Vous avez gagné en \" + str(compteur) + \" coups\"\n",
    "    return phrase\n",
    "\n",
    "nbrmax = int(input(\"Entrer un nombre max\"))\n",
    "print(justeprix(nbrmax))"
   ]
  },
  {
   "cell_type": "markdown",
   "metadata": {},
   "source": [
    "* Question B"
   ]
  },
  {
   "cell_type": "code",
   "execution_count": 19,
   "metadata": {},
   "outputs": [
    {
     "name": "stdout",
     "output_type": "stream",
     "text": [
      "Valeur trouvée\n"
     ]
    }
   ],
   "source": [
    "def machine_devine():\n",
    "    min = 1\n",
    "    max = 99\n",
    "    nombre_choix = int(input(\"Choisis un nombre compris entre \"+ str(min) + \" et \"+ str(max)))\n",
    "    nombre_aleatoire_devine = random.randint(min, max)\n",
    "\n",
    "    while (nombre_choix != nombre_aleatoire_devine):\n",
    "        nombre_aleatoire_devine = random.randint(min, max)\n",
    "        reponse = int(input(\"Le programme a répondu \"+ str(nombre_aleatoire_devine) +\" \\nSelectionne 1 : pour valeur proposée trop petite, 2 : pour valeur proposée trop grande, 3 : pour valeur trouvée\"))\n",
    "        if(reponse==1):\n",
    "            min = nombre_aleatoire_devine\n",
    "        elif(reponse==2):\n",
    "            max = nombre_aleatoire_devine\n",
    "    return \"Valeur trouvée\"\n",
    "print(machine_devine())"
   ]
  },
  {
   "cell_type": "markdown",
   "metadata": {},
   "source": [
    "## Ecercice 4\n",
    "* Question 1"
   ]
  },
  {
   "cell_type": "code",
   "execution_count": 25,
   "metadata": {},
   "outputs": [
    {
     "name": "stdout",
     "output_type": "stream",
     "text": [
      "15\n"
     ]
    }
   ],
   "source": [
    "def comptePoints(mot):\n",
    "    points_lettres={\"A\":1,\"B\":3,\"C\":3,\"D\":2,\"E\":1,\"F\":4,\"G\":2,\"H\": 4,\"I\":1,\"J\":8,\"K\":10,\"L\":1,\"M\":2,\"N\":1,\"O\":1,\"P\":3,\"Q\":8,\"R\":1 ,\"S\":1,\"T\":1,\"U\":1,\"V\":4,\"W\":10,\"X\":10,\"Y\":10,\"Z\":10}\n",
    "    somme_point = 0\n",
    "    for i in range(len(mot)):\n",
    "        somme_point += points_lettres[mot[i]]\n",
    "    return somme_point\n",
    "#print(comptePoints(\"ALEXIS\"))"
   ]
  },
  {
   "cell_type": "markdown",
   "metadata": {},
   "source": [
    "* Question 2"
   ]
  },
  {
   "cell_type": "code",
   "execution_count": 28,
   "metadata": {},
   "outputs": [
    {
     "name": "stdout",
     "output_type": "stream",
     "text": [
      "15\n"
     ]
    }
   ],
   "source": [
    "def entreMot():\n",
    "    mot = str(input(\"Entre un mot pour compter les points\"))\n",
    "    point = comptePoints(mot.upper())\n",
    "    return point\n",
    "print(entreMot())"
   ]
  },
  {
   "cell_type": "markdown",
   "metadata": {},
   "source": [
    "* Question 3"
   ]
  },
  {
   "cell_type": "code",
   "execution_count": 31,
   "metadata": {},
   "outputs": [],
   "source": [
    "def nbr_Consonnes(mot):\n",
    "    voyelles = \"AEIOUY\"\n",
    "    consonnes = 0\n",
    "    voyelles_count = 0\n",
    "\n",
    "    for lettre in mot.upper():  # Convertir le mot en majuscules pour une vérification uniforme\n",
    "        if lettre in voyelles:\n",
    "            voyelles_count += 1\n",
    "        elif lettre.isalpha():  # Vérifie si la lettre est une lettre alphabétique\n",
    "            consonnes += 1\n",
    "\n",
    "    return voyelles_count, consonnes"
   ]
  },
  {
   "cell_type": "code",
   "execution_count": 32,
   "metadata": {},
   "outputs": [
    {
     "name": "stdout",
     "output_type": "stream",
     "text": [
      "Nombre de voyelles : 3\n",
      "Nombre de consonnes : 3\n"
     ]
    }
   ],
   "source": [
    "# Programme principal\n",
    "mot = input(\"Entrez un mot : \")\n",
    "voyelles_count, consonnes_count = nbr_Consonnes(mot)\n",
    "print(f\"Nombre de voyelles : {voyelles_count}\")\n",
    "print(f\"Nombre de consonnes : {consonnes_count}\")"
   ]
  },
  {
   "cell_type": "markdown",
   "metadata": {},
   "source": [
    "* Question 5"
   ]
  },
  {
   "cell_type": "code",
   "execution_count": 33,
   "metadata": {},
   "outputs": [
    {
     "name": "stdout",
     "output_type": "stream",
     "text": [
      "Nombre de voyelles : 3\n",
      "Nombre de consonnes : 3\n",
      "Points des voyelles : 3\n",
      "Points des consonnes : 12\n"
     ]
    }
   ],
   "source": [
    "# Dictionnaire des points des lettres\n",
    "points_lettres = {\n",
    "    \"A\": 1, \"B\": 3, \"C\": 3, \"D\": 2, \"E\": 1, \"F\": 4, \"G\": 2, \"H\": 4,\n",
    "    \"I\": 1, \"J\": 8, \"K\": 10, \"L\": 1, \"M\": 2, \"N\": 1, \"O\": 1, \"P\": 3, \"Q\": 8,\n",
    "    \"R\": 1, \"S\": 1, \"T\": 1, \"U\": 1, \"V\": 4, \"W\": 10, \"X\": 10, \"Y\": 10, \"Z\": 10\n",
    "}\n",
    "\n",
    "def nbr_Consonnes(mot):\n",
    "    voyelles = \"AEIOUY\"\n",
    "    consonnes_count = 0\n",
    "    voyelles_count = 0\n",
    "    points_voyelles = 0\n",
    "    points_consonnes = 0\n",
    "\n",
    "    for lettre in mot.upper():  # Convertir le mot en majuscules pour correspondre au dictionnaire\n",
    "        if lettre in voyelles:\n",
    "            voyelles_count += 1\n",
    "            points_voyelles += points_lettres.get(lettre, 0)\n",
    "        elif lettre.isalpha():  # Vérifie si c'est une consonne\n",
    "            consonnes_count += 1\n",
    "            points_consonnes += points_lettres.get(lettre, 0)\n",
    "\n",
    "    return voyelles_count, consonnes_count, points_voyelles, points_consonnes\n",
    "\n",
    "# Programme principal\n",
    "mot = input(\"Entrez un mot : \")\n",
    "voyelles_count, consonnes_count, points_voyelles, points_consonnes = nbr_Consonnes(mot)\n",
    "print(f\"Nombre de voyelles : {voyelles_count}\")\n",
    "print(f\"Nombre de consonnes : {consonnes_count}\")\n",
    "print(f\"Points des voyelles : {points_voyelles}\")\n",
    "print(f\"Points des consonnes : {points_consonnes}\")\n"
   ]
  },
  {
   "cell_type": "markdown",
   "metadata": {},
   "source": [
    "## Exercice 5"
   ]
  },
  {
   "cell_type": "code",
   "execution_count": null,
   "metadata": {},
   "outputs": [],
   "source": []
  },
  {
   "cell_type": "code",
   "execution_count": 11,
   "metadata": {},
   "outputs": [
    {
     "name": "stdout",
     "output_type": "stream",
     "text": [
      "3 6\n"
     ]
    }
   ],
   "source": [
    "a = 54\n",
    "b = 16\n",
    "c= a // b\n",
    "d = a % b\n",
    "print(c, d)"
   ]
  }
 ],
 "metadata": {
  "kernelspec": {
   "display_name": "Python 3",
   "language": "python",
   "name": "python3"
  },
  "language_info": {
   "codemirror_mode": {
    "name": "ipython",
    "version": 3
   },
   "file_extension": ".py",
   "mimetype": "text/x-python",
   "name": "python",
   "nbconvert_exporter": "python",
   "pygments_lexer": "ipython3",
   "version": "3.12.3"
  }
 },
 "nbformat": 4,
 "nbformat_minor": 2
}
