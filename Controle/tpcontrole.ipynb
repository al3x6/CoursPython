{
 "cells": [
  {
   "cell_type": "markdown",
   "metadata": {},
   "source": [
    "## Exercice 1"
   ]
  },
  {
   "cell_type": "code",
   "execution_count": null,
   "metadata": {},
   "outputs": [],
   "source": [
    "def saisieNotes(dictio):\n",
    "\n",
    "    for i in range(len(dictio)):\n",
    "        #print(dictio[i][\"nom\"])\n",
    "        note = int(input(\"Quelle note souhaitez-vous attribuer pour \" + dictio[i][\"prenom\"] +\" \" + dictio[i][\"nom\"] +\" ?\"))\n",
    "        dictio[i][\"note\"] = note\n",
    "        #print(dictio)\n",
    "    return dictio\n",
    "\n",
    "def meilleur(dictionnaire):\n",
    "    max = 0\n",
    "    liste_max = []\n",
    "    \n",
    "    for i in range(len(dictionnaire)):\n",
    "        if (max < dictionnaire[i][\"note\"]) : \n",
    "            liste_max = [str(dictionnaire[i][\"prenom\"]) + \" \" + str(dictionnaire[i][\"nom\"])]\n",
    "            max = dictionnaire[i][\"note\"]\n",
    "        \n",
    "        elif (max == dictionnaire[i][\"note\"]):\n",
    "            nom = str(dictionnaire[i][\"prenom\"]) + \" \" + str(dictionnaire[i][\"nom\"])\n",
    "            liste_max.append(nom)\n",
    "    \n",
    "    return max, liste_max\n",
    "\n",
    "def progPrincipal():\n",
    "    d=[{\"nom\":\"ebel\",\"prenom\":\"franck\"},{\"nom\":\"spriet\",\"prenom\":\"hugues\"},{\"nom\":\"burel\",\"prenom\":\"romain\"},{\"nom\":\"de montalivet\",\"prenom\":\"paul\"}]\n",
    "    l1=saisieNotes(d)\n",
    "    print(l1)\n",
    "    resu = meilleur(l1)\n",
    "    print(\"la meilleur note est : \",resu[0],\" et appartient à \")\n",
    "    for i in range(len(resu[1])):\n",
    "        print(resu[1][i])\n",
    "    return\n",
    "progPrincipal()"
   ]
  },
  {
   "cell_type": "markdown",
   "metadata": {},
   "source": [
    "## Exercice 2"
   ]
  },
  {
   "cell_type": "code",
   "execution_count": 1,
   "metadata": {},
   "outputs": [
    {
     "name": "stdout",
     "output_type": "stream",
     "text": [
      "Serveur prêt à recevoir des connexions...\n",
      "Connexion de ('10.100.1.125', 59097)\n",
      "On a choisi ciseaux pour toi serveur\n",
      "Le client a choisi pierre\n",
      "On a choisi ciseaux pour toi serveur\n",
      "Le client a choisi feuille\n",
      "On a choisi ciseaux pour toi serveur\n",
      "Le client a choisi feuille\n",
      "On a choisi ciseaux pour toi serveur\n",
      "Le client a choisi pierre\n",
      "On a choisi feuille pour toi serveur\n",
      "Le client a choisi feuille\n",
      "On a choisi pierre pour toi serveur\n",
      "Le client a choisi feuille\n"
     ]
    }
   ],
   "source": [
    "import socket\n",
    "import random\n",
    "\n",
    "def server_program_Jeu():\n",
    "    host = socket.gethostname()\n",
    "    port = 1234\n",
    "\n",
    "    server_socket = socket.socket()\n",
    "    server_socket.bind((host, port))\n",
    "\n",
    "    server_socket.listen()\n",
    "    print(\"Serveur prêt à recevoir des connexions...\")\n",
    "\n",
    "    client_socket, address = server_socket.accept()\n",
    "    print(f\"Connexion de {address}\")\n",
    "\n",
    "    client_socket.send(\"Bienvenue, nous allons jouer au pierre feuille ciseau.\\n Nous allons choisir pour vous...\".encode())\n",
    "\n",
    "    liste_choix = [\"pierre\",\"feuille\",\"ciseaux\"]\n",
    "    compteur = 1\n",
    "\n",
    "    point_client = 0\n",
    "    point_serveur = 0\n",
    "    while compteur<6:\n",
    "        client_socket.send((str(compteur) + \"er/ième tour(s)\").encode())\n",
    "        \n",
    "        compteur +=1\n",
    "        choix_serveur = random.choice(liste_choix)\n",
    "        print(f\"On a choisi {choix_serveur} pour toi serveur\")\n",
    "\n",
    "        choix_client = client_socket.recv(1024).decode()\n",
    "        print(f\"Le client a choisi {choix_client}\")\n",
    "\n",
    "        client_socket.send((choix_serveur).encode())\n",
    "\n",
    "        if ((choix_client == \"ciseaux\" and choix_serveur == \"feuille\") or (choix_client == \"pierre\" and choix_serveur == \"ciseaux\") or (choix_client == \"feuille\" and choix_serveur == \"pierre\")):\n",
    "            point_client +=1\n",
    "\n",
    "        # si pierre == pierre ..., on rejoue\n",
    "        elif (choix_client == choix_serveur):\n",
    "            compteur -=1 \n",
    "        else :\n",
    "            point_serveur +=1\n",
    "\n",
    "    if point_client > point_serveur:\n",
    "        client_socket.send((\"Tu as gagné avec \" +str(point_client) + \" points et le serveur \" + (str(point_serveur))).encode())\n",
    "    else : \n",
    "        client_socket.send((\"Tu as perdu avec \" +str(point_client) + \" point(s) et le serveur \" + (str(point_serveur))).encode())\n",
    "\n",
    "    client_socket.close()\n",
    "    server_socket.close()\n",
    "\n",
    "if __name__ == \"__main__\":\n",
    "    server_program_Jeu()"
   ]
  }
 ],
 "metadata": {
  "kernelspec": {
   "display_name": "Python 3",
   "language": "python",
   "name": "python3"
  },
  "language_info": {
   "codemirror_mode": {
    "name": "ipython",
    "version": 3
   },
   "file_extension": ".py",
   "mimetype": "text/x-python",
   "name": "python",
   "nbconvert_exporter": "python",
   "pygments_lexer": "ipython3",
   "version": "3.12.3"
  }
 },
 "nbformat": 4,
 "nbformat_minor": 2
}
