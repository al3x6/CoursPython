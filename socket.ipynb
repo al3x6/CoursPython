{
 "cells": [
  {
   "cell_type": "markdown",
   "metadata": {},
   "source": [
    "# Socket Python\n",
    "#### 11/09/2024\n",
    "socket = adresse ip + port"
   ]
  },
  {
   "cell_type": "markdown",
   "metadata": {},
   "source": [
    "## Client FTP  \n",
    "IMPORTATION"
   ]
  },
  {
   "cell_type": "code",
   "execution_count": 18,
   "metadata": {},
   "outputs": [
    {
     "data": {
      "text/plain": [
       "['AF_APPLETALK',\n",
       " 'AF_BLUETOOTH',\n",
       " 'AF_DECnet',\n",
       " 'AF_HYPERV',\n",
       " 'AF_INET',\n",
       " 'AF_INET6',\n",
       " 'AF_IPX',\n",
       " 'AF_IRDA',\n",
       " 'AF_LINK',\n",
       " 'AF_SNA',\n",
       " 'AF_UNSPEC',\n",
       " 'AI_ADDRCONFIG',\n",
       " 'AI_ALL',\n",
       " 'AI_CANONNAME',\n",
       " 'AI_NUMERICHOST',\n",
       " 'AI_NUMERICSERV',\n",
       " 'AI_PASSIVE',\n",
       " 'AI_V4MAPPED',\n",
       " 'AddressFamily',\n",
       " 'AddressInfo',\n",
       " 'BDADDR_ANY',\n",
       " 'BDADDR_LOCAL',\n",
       " 'BTPROTO_RFCOMM',\n",
       " 'CAPI',\n",
       " 'EAGAIN',\n",
       " 'EAI_AGAIN',\n",
       " 'EAI_BADFLAGS',\n",
       " 'EAI_FAIL',\n",
       " 'EAI_FAMILY',\n",
       " 'EAI_MEMORY',\n",
       " 'EAI_NODATA',\n",
       " 'EAI_NONAME',\n",
       " 'EAI_SERVICE',\n",
       " 'EAI_SOCKTYPE',\n",
       " 'EBADF',\n",
       " 'EWOULDBLOCK',\n",
       " 'HVSOCKET_ADDRESS_FLAG_PASSTHRU',\n",
       " 'HVSOCKET_CONNECTED_SUSPEND',\n",
       " 'HVSOCKET_CONNECT_TIMEOUT',\n",
       " 'HVSOCKET_CONNECT_TIMEOUT_MAX',\n",
       " 'HV_GUID_BROADCAST',\n",
       " 'HV_GUID_CHILDREN',\n",
       " 'HV_GUID_LOOPBACK',\n",
       " 'HV_GUID_PARENT',\n",
       " 'HV_GUID_WILDCARD',\n",
       " 'HV_GUID_ZERO',\n",
       " 'HV_PROTOCOL_RAW',\n",
       " 'INADDR_ALLHOSTS_GROUP',\n",
       " 'INADDR_ANY',\n",
       " 'INADDR_BROADCAST',\n",
       " 'INADDR_LOOPBACK',\n",
       " 'INADDR_MAX_LOCAL_GROUP',\n",
       " 'INADDR_NONE',\n",
       " 'INADDR_UNSPEC_GROUP',\n",
       " 'IPPORT_RESERVED',\n",
       " 'IPPORT_USERRESERVED',\n",
       " 'IPPROTO_AH',\n",
       " 'IPPROTO_CBT',\n",
       " 'IPPROTO_DSTOPTS',\n",
       " 'IPPROTO_EGP',\n",
       " 'IPPROTO_ESP',\n",
       " 'IPPROTO_FRAGMENT',\n",
       " 'IPPROTO_GGP',\n",
       " 'IPPROTO_HOPOPTS',\n",
       " 'IPPROTO_ICLFXBM',\n",
       " 'IPPROTO_ICMP',\n",
       " 'IPPROTO_ICMPV6',\n",
       " 'IPPROTO_IDP',\n",
       " 'IPPROTO_IGMP',\n",
       " 'IPPROTO_IGP',\n",
       " 'IPPROTO_IP',\n",
       " 'IPPROTO_IPV4',\n",
       " 'IPPROTO_IPV6',\n",
       " 'IPPROTO_L2TP',\n",
       " 'IPPROTO_MAX',\n",
       " 'IPPROTO_ND',\n",
       " 'IPPROTO_NONE',\n",
       " 'IPPROTO_PGM',\n",
       " 'IPPROTO_PIM',\n",
       " 'IPPROTO_PUP',\n",
       " 'IPPROTO_RAW',\n",
       " 'IPPROTO_RDP',\n",
       " 'IPPROTO_ROUTING',\n",
       " 'IPPROTO_SCTP',\n",
       " 'IPPROTO_ST',\n",
       " 'IPPROTO_TCP',\n",
       " 'IPPROTO_UDP',\n",
       " 'IPV6_CHECKSUM',\n",
       " 'IPV6_DONTFRAG',\n",
       " 'IPV6_HOPLIMIT',\n",
       " 'IPV6_HOPOPTS',\n",
       " 'IPV6_JOIN_GROUP',\n",
       " 'IPV6_LEAVE_GROUP',\n",
       " 'IPV6_MULTICAST_HOPS',\n",
       " 'IPV6_MULTICAST_IF',\n",
       " 'IPV6_MULTICAST_LOOP',\n",
       " 'IPV6_PKTINFO',\n",
       " 'IPV6_RECVRTHDR',\n",
       " 'IPV6_RECVTCLASS',\n",
       " 'IPV6_RTHDR',\n",
       " 'IPV6_TCLASS',\n",
       " 'IPV6_UNICAST_HOPS',\n",
       " 'IPV6_V6ONLY',\n",
       " 'IP_ADD_MEMBERSHIP',\n",
       " 'IP_ADD_SOURCE_MEMBERSHIP',\n",
       " 'IP_BLOCK_SOURCE',\n",
       " 'IP_DROP_MEMBERSHIP',\n",
       " 'IP_DROP_SOURCE_MEMBERSHIP',\n",
       " 'IP_HDRINCL',\n",
       " 'IP_MULTICAST_IF',\n",
       " 'IP_MULTICAST_LOOP',\n",
       " 'IP_MULTICAST_TTL',\n",
       " 'IP_OPTIONS',\n",
       " 'IP_PKTINFO',\n",
       " 'IP_RECVDSTADDR',\n",
       " 'IP_RECVTOS',\n",
       " 'IP_TOS',\n",
       " 'IP_TTL',\n",
       " 'IP_UNBLOCK_SOURCE',\n",
       " 'IntEnum',\n",
       " 'IntFlag',\n",
       " 'MSG_BCAST',\n",
       " 'MSG_CTRUNC',\n",
       " 'MSG_DONTROUTE',\n",
       " 'MSG_ERRQUEUE',\n",
       " 'MSG_MCAST',\n",
       " 'MSG_OOB',\n",
       " 'MSG_PEEK',\n",
       " 'MSG_TRUNC',\n",
       " 'MSG_WAITALL',\n",
       " 'MsgFlag',\n",
       " 'NI_DGRAM',\n",
       " 'NI_MAXHOST',\n",
       " 'NI_MAXSERV',\n",
       " 'NI_NAMEREQD',\n",
       " 'NI_NOFQDN',\n",
       " 'NI_NUMERICHOST',\n",
       " 'NI_NUMERICSERV',\n",
       " 'RCVALL_MAX',\n",
       " 'RCVALL_OFF',\n",
       " 'RCVALL_ON',\n",
       " 'RCVALL_SOCKETLEVELONLY',\n",
       " 'SHUT_RD',\n",
       " 'SHUT_RDWR',\n",
       " 'SHUT_WR',\n",
       " 'SIO_KEEPALIVE_VALS',\n",
       " 'SIO_LOOPBACK_FAST_PATH',\n",
       " 'SIO_RCVALL',\n",
       " 'SOCK_DGRAM',\n",
       " 'SOCK_RAW',\n",
       " 'SOCK_RDM',\n",
       " 'SOCK_SEQPACKET',\n",
       " 'SOCK_STREAM',\n",
       " 'SOL_IP',\n",
       " 'SOL_SOCKET',\n",
       " 'SOL_TCP',\n",
       " 'SOL_UDP',\n",
       " 'SOMAXCONN',\n",
       " 'SO_ACCEPTCONN',\n",
       " 'SO_BROADCAST',\n",
       " 'SO_DEBUG',\n",
       " 'SO_DONTROUTE',\n",
       " 'SO_ERROR',\n",
       " 'SO_EXCLUSIVEADDRUSE',\n",
       " 'SO_KEEPALIVE',\n",
       " 'SO_LINGER',\n",
       " 'SO_OOBINLINE',\n",
       " 'SO_RCVBUF',\n",
       " 'SO_RCVLOWAT',\n",
       " 'SO_RCVTIMEO',\n",
       " 'SO_REUSEADDR',\n",
       " 'SO_SNDBUF',\n",
       " 'SO_SNDLOWAT',\n",
       " 'SO_SNDTIMEO',\n",
       " 'SO_TYPE',\n",
       " 'SO_USELOOPBACK',\n",
       " 'SocketIO',\n",
       " 'SocketKind',\n",
       " 'SocketType',\n",
       " 'TCP_FASTOPEN',\n",
       " 'TCP_KEEPCNT',\n",
       " 'TCP_KEEPIDLE',\n",
       " 'TCP_KEEPINTVL',\n",
       " 'TCP_MAXSEG',\n",
       " 'TCP_NODELAY',\n",
       " '_GLOBAL_DEFAULT_TIMEOUT',\n",
       " '_GiveupOnSendfile',\n",
       " '_LOCALHOST',\n",
       " '_LOCALHOST_V6',\n",
       " '__all__',\n",
       " '__builtins__',\n",
       " '__cached__',\n",
       " '__doc__',\n",
       " '__file__',\n",
       " '__loader__',\n",
       " '__name__',\n",
       " '__package__',\n",
       " '__spec__',\n",
       " '_blocking_errnos',\n",
       " '_intenum_converter',\n",
       " '_socket',\n",
       " 'close',\n",
       " 'create_connection',\n",
       " 'create_server',\n",
       " 'dup',\n",
       " 'errno',\n",
       " 'error',\n",
       " 'errorTab',\n",
       " 'fromfd',\n",
       " 'fromshare',\n",
       " 'gaierror',\n",
       " 'getaddrinfo',\n",
       " 'getdefaulttimeout',\n",
       " 'getfqdn',\n",
       " 'gethostbyaddr',\n",
       " 'gethostbyname',\n",
       " 'gethostbyname_ex',\n",
       " 'gethostname',\n",
       " 'getnameinfo',\n",
       " 'getprotobyname',\n",
       " 'getservbyname',\n",
       " 'getservbyport',\n",
       " 'has_dualstack_ipv6',\n",
       " 'has_ipv6',\n",
       " 'herror',\n",
       " 'htonl',\n",
       " 'htons',\n",
       " 'if_indextoname',\n",
       " 'if_nameindex',\n",
       " 'if_nametoindex',\n",
       " 'inet_aton',\n",
       " 'inet_ntoa',\n",
       " 'inet_ntop',\n",
       " 'inet_pton',\n",
       " 'io',\n",
       " 'ntohl',\n",
       " 'ntohs',\n",
       " 'os',\n",
       " 'selectors',\n",
       " 'setdefaulttimeout',\n",
       " 'socket',\n",
       " 'socketpair',\n",
       " 'sys',\n",
       " 'timeout']"
      ]
     },
     "execution_count": 18,
     "metadata": {},
     "output_type": "execute_result"
    }
   ],
   "source": [
    "import socket\n",
    "dir(socket)"
   ]
  },
  {
   "cell_type": "markdown",
   "metadata": {},
   "source": [
    "CREATION DU SOCKET\n",
    "* Par défaut défaut c'est un socket réseau, et en ipv4 et en TCP"
   ]
  },
  {
   "cell_type": "code",
   "execution_count": 19,
   "metadata": {},
   "outputs": [],
   "source": [
    "s = socket.socket()"
   ]
  },
  {
   "cell_type": "markdown",
   "metadata": {},
   "source": [
    "CONNEXION  \n",
    "adresse ip + port"
   ]
  },
  {
   "cell_type": "code",
   "execution_count": 20,
   "metadata": {},
   "outputs": [],
   "source": [
    "host = \"ftp.ibiblio.org\"\n",
    "port = 21\n",
    "#par defaut c'est un socket reseau, et en ipv4 et en TCP\n",
    "s.connect((host, port))"
   ]
  },
  {
   "cell_type": "code",
   "execution_count": 21,
   "metadata": {},
   "outputs": [
    {
     "name": "stdout",
     "output_type": "stream",
     "text": [
      "220 ProFTPD Server\n",
      "\n"
     ]
    }
   ],
   "source": [
    "data = s.recv(512)\n",
    "print(data.decode())"
   ]
  },
  {
   "cell_type": "markdown",
   "metadata": {},
   "source": [
    "ENVOIE Utilisateur  \n",
    "send(utilisateur)"
   ]
  },
  {
   "cell_type": "code",
   "execution_count": 22,
   "metadata": {},
   "outputs": [
    {
     "data": {
      "text/plain": [
       "16"
      ]
     },
     "execution_count": 22,
     "metadata": {},
     "output_type": "execute_result"
    }
   ],
   "source": [
    "s.send(\"USER anonymous\\r\\n\".encode())"
   ]
  },
  {
   "cell_type": "markdown",
   "metadata": {},
   "source": [
    "RECOIE Utilisateur"
   ]
  },
  {
   "cell_type": "code",
   "execution_count": 23,
   "metadata": {},
   "outputs": [
    {
     "name": "stdout",
     "output_type": "stream",
     "text": [
      "331 Anonymous login ok, send your complete email address as your password\n",
      "\n"
     ]
    }
   ],
   "source": [
    "data = s.recv(512)\n",
    "print(data.decode())"
   ]
  },
  {
   "cell_type": "markdown",
   "metadata": {},
   "source": [
    "ENVOIE Password"
   ]
  },
  {
   "cell_type": "code",
   "execution_count": 24,
   "metadata": {},
   "outputs": [
    {
     "data": {
      "text/plain": [
       "19"
      ]
     },
     "execution_count": 24,
     "metadata": {},
     "output_type": "execute_result"
    }
   ],
   "source": [
    "s.send(\"PASS test@free.fr\\r\\n\".encode())"
   ]
  },
  {
   "cell_type": "markdown",
   "metadata": {},
   "source": [
    "RECOIE Password"
   ]
  },
  {
   "cell_type": "code",
   "execution_count": 25,
   "metadata": {},
   "outputs": [
    {
     "name": "stdout",
     "output_type": "stream",
     "text": [
      "230-\n",
      "\n"
     ]
    }
   ],
   "source": [
    "data = s.recv(512)\n",
    "print(data.decode())"
   ]
  },
  {
   "cell_type": "markdown",
   "metadata": {},
   "source": [
    "FERMER"
   ]
  },
  {
   "cell_type": "code",
   "execution_count": 26,
   "metadata": {},
   "outputs": [],
   "source": [
    "s.close()"
   ]
  },
  {
   "cell_type": "code",
   "execution_count": 27,
   "metadata": {},
   "outputs": [
    {
     "name": "stdout",
     "output_type": "stream",
     "text": [
      "220 ProFTPD Server\n",
      "\n",
      "331 Anonymous login ok, send your complete email address as your password\n",
      "\n",
      "230-\n",
      "   Welcome to ftp.ibiblio.org, the public ftp server of ibiblio.org.  We\n",
      "   hope you find what you're looking for.\n",
      " \n",
      "   If you have any problems or questions, please see\n",
      " \n",
      "   http://www.ibiblio.org/help/\n",
      " \n",
      "   Thanks! \n",
      " \n",
      "\n"
     ]
    }
   ],
   "source": [
    "import socket\n",
    "host=\"ftp.ibiblio.org\"\n",
    "port=21\n",
    "s=socket.socket()\n",
    "#par defaut c'est un socket reseau, et en ipv4 et en TCP\n",
    "s.connect((host,port))\n",
    "data=s.recv(512)\n",
    "print(data.decode())\n",
    "s.send(\"USER anonymous\\r\\n\".encode())\n",
    "data=s.recv(512)\n",
    "print(data.decode())\n",
    "s.send(\"PASS test@free.fr\\r\\n\".encode())\n",
    "data=s.recv(512)\n",
    "print(data.decode())\n",
    "\n",
    "s.close()"
   ]
  },
  {
   "cell_type": "markdown",
   "metadata": {},
   "source": [
    "## Client Web  \n",
    "Sur Oteria"
   ]
  },
  {
   "cell_type": "code",
   "execution_count": 28,
   "metadata": {},
   "outputs": [
    {
     "name": "stdout",
     "output_type": "stream",
     "text": [
      "HTTP/1.1 400 Bad Request\n",
      "Date: Sat, 14 Sep 2024 20:12:16 GMT\n",
      "Content-Type: text/html\n",
      "Content-Length: 154\n",
      "Connection: close\n",
      "\n",
      "<html>\n",
      "<head><title>400 Bad Request</title></head>\n",
      "<body>\n",
      "<center><h1>400 Bad Request</h1></center>\n",
      "<hr><center>openresty</center>\n",
      "</body>\n",
      "</html>\n",
      "\n"
     ]
    }
   ],
   "source": [
    "import socket\n",
    "s = socket.socket()\n",
    "host = \"oteria.fr\"\n",
    "port = 80\n",
    "\n",
    "s.connect((host, port))\n",
    "s.send(\"GET index.php HTML/1.1\\r\\n\".encode())\n",
    "data = s.recv(512)\n",
    "print(data.decode())\n",
    "#s.send(\"PASS test@free.fr\\r\\n\".encode())\n",
    "#data = s.recv(512)\n",
    "#print(data.decode())\n",
    "s.close()"
   ]
  },
  {
   "cell_type": "markdown",
   "metadata": {},
   "source": [
    "## Serveur \n",
    "FAIRE UN SERVEUR  \n",
    "Besoin de socket_ServeurConnect.py pour pouvoir executer une connexion et débloquer l'attente"
   ]
  },
  {
   "cell_type": "code",
   "execution_count": 29,
   "metadata": {},
   "outputs": [
    {
     "name": "stdout",
     "output_type": "stream",
     "text": [
      "le client a l'adresse IP  127.0.0.1  et a ouvert le port  51301\n",
      "('127.0.0.1', 51301)\n",
      "Hello Server!\n"
     ]
    }
   ],
   "source": [
    "import socket\n",
    "\n",
    "host=\"\"\n",
    "port=1234\n",
    "\n",
    "s=socket.socket()\n",
    "s.bind((host,port)) # Ouvre le port\n",
    "s.listen()\n",
    "\n",
    "s_client, infos = s.accept()\n",
    "print(\"le client a l'adresse IP \",infos[0],\" et a ouvert le port \",infos[1])\n",
    "print(infos)\n",
    "\n",
    "data=s_client.recv(512)\n",
    "print(data.decode())\n",
    "\n",
    "s_client.close()\n",
    "s.close()"
   ]
  },
  {
   "cell_type": "markdown",
   "metadata": {},
   "source": [
    "## Exercice\n",
    "#### Exercice 1"
   ]
  },
  {
   "cell_type": "code",
   "execution_count": 1,
   "metadata": {},
   "outputs": [
    {
     "name": "stdout",
     "output_type": "stream",
     "text": [
      "Serveur en écoute...\n",
      "Connexion établie avec le client à l'adresse IP 127.0.0.1\n",
      "Nombre choisi par le serveur : 78 (ne pas montrer au client)\n",
      "Nombre deviné par le client : 12\n",
      "Nombre deviné par le client : 50\n",
      "Nombre deviné par le client : 70\n",
      "Nombre deviné par le client : 80\n",
      "Nombre deviné par le client : 75\n",
      "Nombre deviné par le client : 78\n"
     ]
    }
   ],
   "source": [
    "\n",
    "import socket\n",
    "import random\n",
    "\n",
    "# Serveur qui écoute les connexions\n",
    "host = \"\"  # Écoute sur toutes les interfaces\n",
    "port = 1234\n",
    "\n",
    "def justeprix_serveur(s_client):\n",
    "    # Le serveur reçoit le nombre max du client\n",
    "    data = s_client.recv(1024)\n",
    "    nbrmax = int(data.decode())\n",
    "    \n",
    "    # Génère un nombre aléatoire entre 1 et le nombre max\n",
    "    nombreDeBase = random.randint(1, nbrmax)\n",
    "    print(f\"Nombre choisi par le serveur : {nombreDeBase} (ne pas montrer au client)\")\n",
    "    \n",
    "    compteur = 0\n",
    "    while True:\n",
    "        compteur += 1\n",
    "        # Reçoit le nombre proposé par le client\n",
    "        data = s_client.recv(1024)\n",
    "        nombreDevine = int(data.decode())\n",
    "        print(f\"Nombre deviné par le client : {nombreDevine}\")\n",
    "        \n",
    "        # Répond au client\n",
    "        if nombreDevine > nombreDeBase:\n",
    "            s_client.send(b\"moins\")\n",
    "        elif nombreDevine < nombreDeBase:\n",
    "            s_client.send(b\"plus\")\n",
    "        else:\n",
    "            s_client.send(b\"gagne\")\n",
    "            break\n",
    "    \n",
    "    # Fin de la partie, envoie le nombre de coups au client\n",
    "    phrase = f\"Vous avez gagné en {compteur} coups.\"\n",
    "    s_client.send(phrase.encode())\n",
    "\n",
    "# Lancement du serveur\n",
    "s = socket.socket()\n",
    "s.bind((host, port))\n",
    "s.listen()\n",
    "\n",
    "print(\"Serveur en écoute...\")\n",
    "\n",
    "s_client, infos = s.accept()\n",
    "print(f\"Connexion établie avec le client à l'adresse IP {infos[0]}\")\n",
    "\n",
    "# Exécution du jeu\n",
    "justeprix_serveur(s_client)\n",
    "\n",
    "# Fermeture de la connexion\n",
    "s_client.close()\n",
    "s.close()\n"
   ]
  },
  {
   "cell_type": "markdown",
   "metadata": {},
   "source": [
    "#### Exercice 1b"
   ]
  },
  {
   "cell_type": "code",
   "execution_count": 2,
   "metadata": {},
   "outputs": [
    {
     "name": "stdout",
     "output_type": "stream",
     "text": [
      "Serveur en écoute sur le port 1234...\n",
      "Connexion établie avec ('127.0.0.1', 52323)\n",
      "Nombre choisi pour le client ('127.0.0.1', 52323) : 2335\n",
      "Nombre deviné par ('127.0.0.1', 52323) : 10000\n",
      "Nombre deviné par ('127.0.0.1', 52323) : 5000\n",
      "Nombre deviné par ('127.0.0.1', 52323) : 2500\n",
      "Nombre deviné par ('127.0.0.1', 52323) : 2000\n",
      "Nombre deviné par ('127.0.0.1', 52323) : 2250\n",
      "Nombre deviné par ('127.0.0.1', 52323) : 2300\n",
      "Nombre deviné par ('127.0.0.1', 52323) : 2400\n",
      "Nombre deviné par ('127.0.0.1', 52323) : 2350\n",
      "Nombre deviné par ('127.0.0.1', 52323) : 2325\n",
      "Nombre deviné par ('127.0.0.1', 52323) : 2330\n",
      "Nombre deviné par ('127.0.0.1', 52323) : 2340\n",
      "Nombre deviné par ('127.0.0.1', 52323) : 2339\n",
      "Nombre deviné par ('127.0.0.1', 52323) : 2335\n"
     ]
    }
   ],
   "source": [
    "\"\"\"\n",
    "import socket\n",
    "import random\n",
    "import threading\n",
    "\n",
    "# Serveur qui écoute les connexions\n",
    "host = \"\"  # Écoute sur toutes les interfaces\n",
    "port = 1234\n",
    "\n",
    "# Fonction qui gère le jeu pour un client spécifique\n",
    "def justeprix_serveur(s_client, infos_client):\n",
    "    try:\n",
    "        # Le serveur reçoit le nombre max du client\n",
    "        data = s_client.recv(1024)\n",
    "        nbrmax = int(data.decode())\n",
    "        \n",
    "        # Génère un nombre aléatoire entre 1 et le nombre max\n",
    "        nombreDeBase = random.randint(1, nbrmax)\n",
    "        print(f\"Nombre choisi pour le client {infos_client} : {nombreDeBase}\")\n",
    "        \n",
    "        compteur = 0\n",
    "        while True:\n",
    "            compteur += 1\n",
    "            # Reçoit le nombre proposé par le client\n",
    "            data = s_client.recv(1024)\n",
    "            nombreDevine = int(data.decode())\n",
    "            print(f\"Nombre deviné par {infos_client} : {nombreDevine}\")\n",
    "            \n",
    "            # Répond au client\n",
    "            if nombreDevine > nombreDeBase:\n",
    "                s_client.send(b\"moins\")\n",
    "            elif nombreDevine < nombreDeBase:\n",
    "                s_client.send(b\"plus\")\n",
    "            else:\n",
    "                s_client.send(b\"gagne\")\n",
    "                break\n",
    "        \n",
    "        # Fin de la partie, envoie le nombre de coups au client\n",
    "        phrase = f\"Vous avez gagné en {compteur} coups.\"\n",
    "        s_client.send(phrase.encode())\n",
    "    except Exception as e:\n",
    "        print(f\"Erreur avec le client {infos_client}: {e}\")\n",
    "    finally:\n",
    "        s_client.close()  # Ferme la connexion du client après la partie\n",
    "\n",
    "# Lancement du serveur principal\n",
    "def lancer_serveur():\n",
    "    s = socket.socket()\n",
    "    s.bind((host, port))\n",
    "    s.listen()\n",
    "    print(f\"Serveur en écoute sur le port {port}...\")\n",
    "\n",
    "    while True:\n",
    "        # Attend une connexion\n",
    "        s_client, infos = s.accept()\n",
    "        print(f\"Connexion établie avec {infos}\")\n",
    "        \n",
    "        # Crée un nouveau thread pour chaque client\n",
    "        thread_client = threading.Thread(target=justeprix_serveur, args=(s_client, infos))\n",
    "        thread_client.start()  # Démarre le thread\n",
    "\n",
    "# Démarrer le serveur\n",
    "lancer_serveur()\n",
    "\"\"\""
   ]
  },
  {
   "cell_type": "code",
   "execution_count": 1,
   "metadata": {},
   "outputs": [
    {
     "name": "stdout",
     "output_type": "stream",
     "text": [
      "Serveur en écoute sur le port 1234...\n",
      "Connexion établie avec ('127.0.0.1', 52648). Clients actifs : 1\n",
      "Nombre choisi pour le client ('127.0.0.1', 52648) : 2\n",
      "Nombre deviné par ('127.0.0.1', 52648) : 1\n",
      "Nombre deviné par ('127.0.0.1', 52648) : 8\n",
      "Nombre deviné par ('127.0.0.1', 52648) : 3\n",
      "Nombre deviné par ('127.0.0.1', 52648) : 2\n",
      "Client déconnecté ('127.0.0.1', 52648). Clients restants : 0\n"
     ]
    }
   ],
   "source": [
    "import socket\n",
    "import random\n",
    "import threading\n",
    "\n",
    "# Serveur qui écoute les connexions\n",
    "host = \"\"  # Écoute sur toutes les interfaces\n",
    "port = 1234\n",
    "\n",
    "# Variable pour suivre le nombre de clients actifs\n",
    "clients_actifs = 0\n",
    "lock = threading.Lock()  # Utilisé pour protéger l'accès concurrent au compteur\n",
    "\n",
    "# Fonction qui gère le jeu pour un client spécifique\n",
    "def justeprix_serveur(s_client, infos_client):\n",
    "    global clients_actifs\n",
    "    try:\n",
    "        # Le serveur reçoit le nombre max du client\n",
    "        data = s_client.recv(1024)\n",
    "        nbrmax = int(data.decode())\n",
    "        \n",
    "        # Génère un nombre aléatoire entre 1 et le nombre max\n",
    "        nombreDeBase = random.randint(1, nbrmax)\n",
    "        print(f\"Nombre choisi pour le client {infos_client} : {nombreDeBase}\")\n",
    "        \n",
    "        compteur = 0\n",
    "        while True:\n",
    "            compteur += 1\n",
    "            # Reçoit le nombre proposé par le client\n",
    "            data = s_client.recv(1024)\n",
    "            nombreDevine = int(data.decode())\n",
    "            print(f\"Nombre deviné par {infos_client} : {nombreDevine}\")\n",
    "            \n",
    "            # Répond au client\n",
    "            if nombreDevine > nombreDeBase:\n",
    "                s_client.send(b\"moins\")\n",
    "            elif nombreDevine < nombreDeBase:\n",
    "                s_client.send(b\"plus\")\n",
    "            else:\n",
    "                s_client.send(b\"gagne\")\n",
    "                break\n",
    "        \n",
    "        # Fin de la partie, envoie le nombre de coups au client\n",
    "        phrase = f\"Vous avez gagné en {compteur} coups.\"\n",
    "        s_client.send(phrase.encode())\n",
    "    except Exception as e:\n",
    "        print(f\"Erreur avec le client {infos_client}: {e}\")\n",
    "    finally:\n",
    "        # Ferme la connexion du client après la partie\n",
    "        s_client.close()\n",
    "        with lock:\n",
    "            clients_actifs -= 1\n",
    "        print(f\"Client déconnecté {infos_client}. Clients restants : {clients_actifs}\")\n",
    "\n",
    "# Lancement du serveur principal\n",
    "def lancer_serveur():\n",
    "    global clients_actifs\n",
    "    s = socket.socket()\n",
    "    s.bind((host, port))\n",
    "    s.listen()\n",
    "    print(f\"Serveur en écoute sur le port {port}...\")\n",
    "\n",
    "    while True:\n",
    "        try:\n",
    "            # Attend une connexion\n",
    "            s_client, infos = s.accept()\n",
    "            \n",
    "            with lock:\n",
    "                clients_actifs += 1\n",
    "            print(f\"Connexion établie avec {infos}. Clients actifs : {clients_actifs}\")\n",
    "            \n",
    "            # Crée un nouveau thread pour chaque client\n",
    "            thread_client = threading.Thread(target=justeprix_serveur, args=(s_client, infos))\n",
    "            thread_client.start()  # Démarre le thread\n",
    "        except KeyboardInterrupt:\n",
    "            print(\"Serveur arrêté manuellement.\")\n",
    "            break\n",
    "\n",
    "    # Fermeture du serveur\n",
    "    s.close()\n",
    "\n",
    "# Exécution du serveur\n",
    "lancer_serveur()"
   ]
  }
 ],
 "metadata": {
  "kernelspec": {
   "display_name": "Python 3",
   "language": "python",
   "name": "python3"
  },
  "language_info": {
   "codemirror_mode": {
    "name": "ipython",
    "version": 3
   },
   "file_extension": ".py",
   "mimetype": "text/x-python",
   "name": "python",
   "nbconvert_exporter": "python",
   "pygments_lexer": "ipython3",
   "version": "3.12.3"
  }
 },
 "nbformat": 4,
 "nbformat_minor": 2
}
