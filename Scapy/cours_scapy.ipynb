{
 "cells": [
  {
   "cell_type": "markdown",
   "metadata": {},
   "source": [
    "# SCAPY\n",
    "18/09/2024"
   ]
  },
  {
   "cell_type": "markdown",
   "metadata": {},
   "source": [
    "## Cours\n",
    "Ethernet -> MAC  \n",
    "IP -> adresses IP  \n",
    "Transport -> port  "
   ]
  },
  {
   "cell_type": "markdown",
   "metadata": {},
   "source": [
    "## Code"
   ]
  },
  {
   "cell_type": "markdown",
   "metadata": {},
   "source": [
    "#### Import"
   ]
  },
  {
   "cell_type": "code",
   "execution_count": 11,
   "metadata": {},
   "outputs": [],
   "source": [
    "from scapy.all import *"
   ]
  },
  {
   "cell_type": "markdown",
   "metadata": {},
   "source": [
    "#### Connaitre les interfaces disponibles"
   ]
  },
  {
   "cell_type": "code",
   "execution_count": null,
   "metadata": {},
   "outputs": [],
   "source": [
    "# Affiche toutes les interfaces réseau disponibles\n",
    "print(conf.ifaces)"
   ]
  },
  {
   "cell_type": "code",
   "execution_count": null,
   "metadata": {},
   "outputs": [],
   "source": [
    "from scapy.all import *\n",
    "sniff(count=10)"
   ]
  },
  {
   "cell_type": "markdown",
   "metadata": {},
   "source": [
    "#### Voir les trames\n",
    "\n",
    "TTL : 64 passages de routeur, (traceroute travaille dessus)"
   ]
  },
  {
   "cell_type": "code",
   "execution_count": null,
   "metadata": {},
   "outputs": [],
   "source": [
    "\n",
    "def maFonction(trame):\n",
    "    \"\"\"\n",
    "    Voir les trames\n",
    "    \"\"\"\n",
    "    print(trame)\n",
    "    print(trame.show()) # Détaille des trames\n",
    "\n",
    "sniff(iface=\"Software Loopback Interface 1\", prn=maFonction, count=15)\n"
   ]
  },
  {
   "cell_type": "markdown",
   "metadata": {},
   "source": [
    "Filtrer :"
   ]
  },
  {
   "cell_type": "code",
   "execution_count": null,
   "metadata": {},
   "outputs": [],
   "source": [
    "\n",
    "def maFonction(trame):\n",
    "    print(trame.show()) # Détaille des trames\n",
    "\n",
    "sniff(iface=\"Software Loopback Interface 1\", prn=maFonction, filter=\"tcp\", count=15)"
   ]
  },
  {
   "cell_type": "code",
   "execution_count": null,
   "metadata": {},
   "outputs": [],
   "source": [
    "\n",
    "def maFonction(trame):\n",
    "    print(trame.show()) # Détaille des trames\n",
    "\n",
    "sniff(iface=\"Software Loopback Interface 1\", prn=maFonction, filter=\"ip and tcp 10.10.1.2\", count=15)"
   ]
  },
  {
   "cell_type": "markdown",
   "metadata": {},
   "source": [
    "Filtrage BPF : Berkeley Packet Filter  \n",
    "* Filtrage rapide mais peu flexible"
   ]
  },
  {
   "cell_type": "code",
   "execution_count": null,
   "metadata": {},
   "outputs": [],
   "source": [
    "\n",
    "def maFonction(trame):\n",
    "    print(trame.show()) # Détaille des trames\n",
    "\n",
    "sniff(iface=\"Software Loopback Interface 1\", prn=maFonction, filter=\"ip and tcp and src net 192.168.1.0/24\", count=15)"
   ]
  },
  {
   "cell_type": "markdown",
   "metadata": {},
   "source": [
    "Filtrage par fonction"
   ]
  },
  {
   "cell_type": "code",
   "execution_count": null,
   "metadata": {},
   "outputs": [],
   "source": [
    "\n",
    "def maFonction(trame):\n",
    "    print(trame.show()) # Détaille des trames\n",
    "\n",
    "def monFiltre(pkt):\n",
    "    if(pkt.haslayer(TCP)): # Si trame à une couche TCP\n",
    "        return True\n",
    "    else:\n",
    "        return False\n",
    "\n",
    "sniff(iface=\"Software Loopback Interface 1\", prn=maFonction, lfilter=monFiltre, count=15)"
   ]
  },
  {
   "cell_type": "markdown",
   "metadata": {},
   "source": [
    "Affichage  \n",
    "Adresse ip source  \n",
    "Adresse Mac source"
   ]
  },
  {
   "cell_type": "code",
   "execution_count": null,
   "metadata": {},
   "outputs": [],
   "source": [
    "\n",
    "def maFonction(trame):\n",
    "    print(\"L'adresse ip source est :\", trame[IP].src) # Détaille des trames\n",
    "    #print(\"Trame TCP avec port 443 : \", trame[TCP].dport==443) # Détaille des trames\n",
    "    #print(\"L'adresse Mac source est :\", trame[Ether].src) # Détaille des trames\n",
    "    #print(\"L'applicatif : \", trame[RAW].load)\n",
    "\n",
    "def monFiltre(pkt):\n",
    "    if(pkt.haslayer(TCP)): # Si trame à une couche TCP\n",
    "        return True\n",
    "    else:\n",
    "        return False\n",
    "\n",
    "sniff(iface=\"Software Loopback Interface 1\", prn=maFonction, filter=\"tcp\" ,lfilter=monFiltre, count=15)"
   ]
  },
  {
   "cell_type": "markdown",
   "metadata": {},
   "source": [
    "#### Fabrication de trame"
   ]
  },
  {
   "cell_type": "code",
   "execution_count": null,
   "metadata": {},
   "outputs": [],
   "source": [
    "a=Ether()\n",
    "a\n",
    "a.show()"
   ]
  },
  {
   "cell_type": "markdown",
   "metadata": {},
   "source": [
    "Changement de mac"
   ]
  },
  {
   "cell_type": "code",
   "execution_count": null,
   "metadata": {},
   "outputs": [],
   "source": [
    "a=Ether(src=\"00:01:03:04:05\")\n",
    "a.show()"
   ]
  },
  {
   "cell_type": "markdown",
   "metadata": {},
   "source": [
    "Changement d'adresse Ip"
   ]
  },
  {
   "cell_type": "code",
   "execution_count": null,
   "metadata": {},
   "outputs": [],
   "source": [
    "b=IP(dst=\"192.168.12.1\",ttl=2)\n",
    "b.show()"
   ]
  },
  {
   "cell_type": "markdown",
   "metadata": {},
   "source": [
    "Réunir les couches"
   ]
  },
  {
   "cell_type": "code",
   "execution_count": null,
   "metadata": {},
   "outputs": [],
   "source": [
    "c=a/b\n",
    "c.show()"
   ]
  },
  {
   "cell_type": "markdown",
   "metadata": {},
   "source": [
    "Couche TCP"
   ]
  },
  {
   "cell_type": "code",
   "execution_count": null,
   "metadata": {},
   "outputs": [],
   "source": [
    "c=a/b/TCP(dport=80)\n",
    "c.show()"
   ]
  },
  {
   "cell_type": "code",
   "execution_count": null,
   "metadata": {},
   "outputs": [],
   "source": [
    "c=a/b/TCP(dport=80)/\"GET index.php HTML/1.1\\r\\n\""
   ]
  },
  {
   "cell_type": "markdown",
   "metadata": {},
   "source": [
    "Envoi de tram  \n",
    "MAC : \n",
    "* sendp6() -> Envoi sans retour (ddos)\n",
    "* sr1p6() -> Envoi un retour\n",
    "* srp() -> Envoi reçoit retour\n",
    "\n",
    "Couche Ip :\n",
    "* send()\n",
    "* sr1()\n",
    "* sr()"
   ]
  },
  {
   "cell_type": "code",
   "execution_count": 14,
   "metadata": {},
   "outputs": [
    {
     "name": "stdout",
     "output_type": "stream",
     "text": [
      "\n",
      "Sent 1 packets.\n"
     ]
    }
   ],
   "source": [
    "send(Ether()/IP(dst=\"192.168.56.1\")/ICMP())"
   ]
  },
  {
   "cell_type": "code",
   "execution_count": 15,
   "metadata": {},
   "outputs": [
    {
     "name": "stdout",
     "output_type": "stream",
     "text": [
      "Begin emission:\n",
      "Finished sending 1 packets.\n",
      "\n",
      "Received 4 packets, got 1 answers, remaining 0 packets\n"
     ]
    }
   ],
   "source": [
    "retour = sr1(IP(dst=\"oteria.fr\")/ICMP()/\"test oteria\")"
   ]
  },
  {
   "cell_type": "code",
   "execution_count": 16,
   "metadata": {},
   "outputs": [
    {
     "name": "stdout",
     "output_type": "stream",
     "text": [
      "###[ IP ]### \n",
      "  version   = 4\n",
      "  ihl       = 5\n",
      "  tos       = 0x0\n",
      "  len       = 39\n",
      "  id        = 1\n",
      "  flags     = \n",
      "  frag      = 0\n",
      "  ttl       = 249\n",
      "  proto     = icmp\n",
      "  chksum    = 0x24a7\n",
      "  src       = 75.2.70.75\n",
      "  dst       = 10.100.1.125\n",
      "  \\options   \\\n",
      "###[ ICMP ]### \n",
      "     type      = echo-reply\n",
      "     code      = 0\n",
      "     chksum    = 0xafe7\n",
      "     id        = 0x0\n",
      "     seq       = 0x0\n",
      "     unused    = ''\n",
      "###[ Raw ]### \n",
      "        load      = 'test oteria'\n",
      "###[ Padding ]### \n",
      "           load      = '\\x00\\x00\\x00'\n",
      "\n"
     ]
    }
   ],
   "source": [
    "retour.show()"
   ]
  },
  {
   "cell_type": "markdown",
   "metadata": {},
   "source": [
    "Envoi destination à 5 ports/paquets"
   ]
  },
  {
   "cell_type": "code",
   "execution_count": 18,
   "metadata": {},
   "outputs": [
    {
     "name": "stdout",
     "output_type": "stream",
     "text": [
      "Begin emission:\n",
      "Finished sending 5 packets.\n",
      "\n",
      "Received 4311 packets, got 2 answers, remaining 3 packets\n"
     ]
    }
   ],
   "source": [
    "reponse,nonreponse =sr(IP(dst=\"oteria.fr\")/TCP(dport=[21,22,23,80,443], flags=\"S\"))"
   ]
  },
  {
   "cell_type": "markdown",
   "metadata": {},
   "source": [
    "Plage de port"
   ]
  },
  {
   "cell_type": "code",
   "execution_count": 19,
   "metadata": {},
   "outputs": [
    {
     "name": "stdout",
     "output_type": "stream",
     "text": [
      "Begin emission:\n",
      "Finished sending 60 packets.\n",
      "\n",
      "Received 4624 packets, got 1 answers, remaining 59 packets\n"
     ]
    }
   ],
   "source": [
    "reponse,nonreponse =sr(IP(dst=\"oteria.fr\")/TCP(dport=(21,80), flags=\"S\"))"
   ]
  },
  {
   "cell_type": "markdown",
   "metadata": {},
   "source": [
    "Plage d'adresse"
   ]
  },
  {
   "cell_type": "code",
   "execution_count": 20,
   "metadata": {},
   "outputs": [
    {
     "name": "stdout",
     "output_type": "stream",
     "text": [
      "Begin emission:\n",
      "Finished sending 120 packets.\n",
      "\n",
      "Received 3945 packets, got 2 answers, remaining 118 packets\n"
     ]
    }
   ],
   "source": [
    "reponse,nonreponse =sr(IP(dst=[\"oteria.fr\",\"uphf.fr\"])/TCP(dport=(21,80), flags=\"S\"))"
   ]
  },
  {
   "cell_type": "code",
   "execution_count": 21,
   "metadata": {},
   "outputs": [
    {
     "data": {
      "text/plain": [
       "(QueryAnswer(query=<IP  frag=0 proto=tcp dst=75.2.70.75 |<TCP  dport=http flags=S |>>, answer=<IP  version=4 ihl=5 tos=0x0 len=44 id=1 flags= frag=0 ttl=249 proto=tcp chksum=0x249d src=75.2.70.75 dst=10.100.1.125 |<TCP  sport=http dport=ftp_data seq=0 ack=0 dataofs=6 reserved=0 flags=SA window=65535 chksum=0x39 urgptr=0 options=[('MSS', 0)] |>>),\n",
       " QueryAnswer(query=<IP  frag=0 proto=tcp dst=194.167.248.41 |<TCP  dport=http flags=S |>>, answer=<IP  version=4 ihl=5 tos=0x0 len=44 id=0 flags=DF frag=0 ttl=52 proto=tcp chksum=0x801a src=194.167.248.41 dst=10.100.1.125 |<TCP  sport=http dport=ftp_data seq=493519669 ack=1 dataofs=6 reserved=0 flags=SA window=64240 chksum=0x356f urgptr=0 options=[('MSS', 1460)] |>>))"
      ]
     },
     "execution_count": 21,
     "metadata": {},
     "output_type": "execute_result"
    }
   ],
   "source": [
    "reponse[0], reponse[1]"
   ]
  },
  {
   "cell_type": "code",
   "execution_count": 22,
   "metadata": {},
   "outputs": [
    {
     "data": {
      "text/plain": [
       "(<IP  version=4 ihl=5 tos=0x0 len=44 id=1 flags= frag=0 ttl=249 proto=tcp chksum=0x249d src=75.2.70.75 dst=10.100.1.125 |<TCP  sport=http dport=ftp_data seq=0 ack=0 dataofs=6 reserved=0 flags=SA window=65535 chksum=0x39 urgptr=0 options=[('MSS', 0)] |>>,\n",
       " <IP  version=4 ihl=5 tos=0x0 len=44 id=0 flags=DF frag=0 ttl=52 proto=tcp chksum=0x801a src=194.167.248.41 dst=10.100.1.125 |<TCP  sport=http dport=ftp_data seq=493519669 ack=1 dataofs=6 reserved=0 flags=SA window=64240 chksum=0x356f urgptr=0 options=[('MSS', 1460)] |>>)"
      ]
     },
     "execution_count": 22,
     "metadata": {},
     "output_type": "execute_result"
    }
   ],
   "source": [
    "reponse[0][1], reponse[1][1]"
   ]
  },
  {
   "cell_type": "code",
   "execution_count": 23,
   "metadata": {},
   "outputs": [
    {
     "name": "stdout",
     "output_type": "stream",
     "text": [
      "Begin emission:\n",
      "Finished sending 15 packets.\n",
      "\n",
      "Received 9854 packets, got 13 answers, remaining 2 packets\n",
      "ttl :  1  Adresse IP : 10.100.1.254\n",
      "ttl :  2  Adresse IP : 172.29.10.17\n",
      "ttl :  3  Adresse IP : 185.91.90.252\n",
      "ttl :  4  Adresse IP : 185.57.223.162\n",
      "ttl :  5  Adresse IP : 5.226.1.176\n",
      "ttl :  6  Adresse IP : 85.31.194.80\n",
      "ttl :  7  Adresse IP : 195.234.35.34\n",
      "ttl :  8  Adresse IP : 72.14.233.77\n",
      "ttl :  9  Adresse IP : 216.239.48.1\n",
      "ttl :  10  Adresse IP : 216.58.214.163\n",
      "ttl :  11  Adresse IP : 216.58.214.163\n",
      "ttl :  12  Adresse IP : 216.58.214.163\n",
      "ttl :  13  Adresse IP : 216.58.214.163\n"
     ]
    }
   ],
   "source": [
    "reponse,nonreponse =sr(IP(dst=\"google.fr\", ttl=(1,15))/TCP(flags=\"S\"))\n",
    "\n",
    "for var, var1 in reponse:\n",
    "    print(\"ttl : \", var[IP].ttl, \" Adresse IP :\", var1[IP].src)"
   ]
  },
  {
   "cell_type": "markdown",
   "metadata": {},
   "source": [
    "Permet de faire du scan de port, détecter du bruit de force"
   ]
  }
 ],
 "metadata": {
  "kernelspec": {
   "display_name": "Python 3",
   "language": "python",
   "name": "python3"
  },
  "language_info": {
   "codemirror_mode": {
    "name": "ipython",
    "version": 3
   },
   "file_extension": ".py",
   "mimetype": "text/x-python",
   "name": "python",
   "nbconvert_exporter": "python",
   "pygments_lexer": "ipython3",
   "version": "3.12.3"
  }
 },
 "nbformat": 4,
 "nbformat_minor": 2
}
