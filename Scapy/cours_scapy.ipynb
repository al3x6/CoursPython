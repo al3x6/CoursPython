{
 "cells": [
  {
   "cell_type": "markdown",
   "metadata": {},
   "source": [
    "# SCAPY\n",
    "18/09/2024"
   ]
  },
  {
   "cell_type": "markdown",
   "metadata": {},
   "source": [
    "## Cours\n",
    "Ethernet -> MAC  \n",
    "IP -> adresses IP  \n",
    "Transport -> port  "
   ]
  },
  {
   "cell_type": "markdown",
   "metadata": {},
   "source": [
    "## Code"
   ]
  },
  {
   "cell_type": "markdown",
   "metadata": {},
   "source": [
    "#### Import"
   ]
  },
  {
   "cell_type": "code",
   "execution_count": 8,
   "metadata": {},
   "outputs": [],
   "source": [
    "from scapy.all import *"
   ]
  },
  {
   "cell_type": "markdown",
   "metadata": {},
   "source": [
    "#### Connaitre les interfaces disponibles"
   ]
  },
  {
   "cell_type": "code",
   "execution_count": null,
   "metadata": {},
   "outputs": [],
   "source": [
    "# Affiche toutes les interfaces réseau disponibles\n",
    "print(conf.ifaces)"
   ]
  },
  {
   "cell_type": "code",
   "execution_count": null,
   "metadata": {},
   "outputs": [],
   "source": [
    "from scapy.all import *\n",
    "sniff(count=10)"
   ]
  },
  {
   "cell_type": "markdown",
   "metadata": {},
   "source": [
    "#### Voir les trames\n",
    "\n",
    "TTL : 64 passages de routeur, (traceroute travaille dessus)"
   ]
  },
  {
   "cell_type": "code",
   "execution_count": null,
   "metadata": {},
   "outputs": [],
   "source": [
    "\n",
    "def maFonction(trame):\n",
    "    \"\"\"\n",
    "    Voir les trames\n",
    "    \"\"\"\n",
    "    print(trame)\n",
    "    print(trame.show()) # Détaille des trames\n",
    "\n",
    "sniff(iface=\"Software Loopback Interface 1\", prn=maFonction, count=15)\n"
   ]
  },
  {
   "cell_type": "markdown",
   "metadata": {},
   "source": [
    "Filtrer :"
   ]
  },
  {
   "cell_type": "code",
   "execution_count": null,
   "metadata": {},
   "outputs": [],
   "source": [
    "\n",
    "def maFonction(trame):\n",
    "    print(trame.show()) # Détaille des trames\n",
    "\n",
    "sniff(iface=\"Software Loopback Interface 1\", prn=maFonction, filter=\"tcp\", count=15)"
   ]
  },
  {
   "cell_type": "code",
   "execution_count": null,
   "metadata": {},
   "outputs": [],
   "source": [
    "\n",
    "def maFonction(trame):\n",
    "    print(trame.show()) # Détaille des trames\n",
    "\n",
    "sniff(iface=\"Software Loopback Interface 1\", prn=maFonction, filter=\"ip and tcp 10.10.1.2\", count=15)"
   ]
  },
  {
   "cell_type": "markdown",
   "metadata": {},
   "source": [
    "Filtrage BPF : Berkeley Packet Filter  \n",
    "* Filtrage rapide mais peu flexible"
   ]
  },
  {
   "cell_type": "code",
   "execution_count": null,
   "metadata": {},
   "outputs": [],
   "source": [
    "\n",
    "def maFonction(trame):\n",
    "    print(trame.show()) # Détaille des trames\n",
    "\n",
    "sniff(iface=\"Software Loopback Interface 1\", prn=maFonction, filter=\"ip and tcp and src net 192.168.1.0/24\", count=15)"
   ]
  },
  {
   "cell_type": "markdown",
   "metadata": {},
   "source": [
    "Filtrage par fonction"
   ]
  },
  {
   "cell_type": "code",
   "execution_count": null,
   "metadata": {},
   "outputs": [],
   "source": [
    "\n",
    "def maFonction(trame):\n",
    "    print(trame.show()) # Détaille des trames\n",
    "\n",
    "def monFiltre(pkt):\n",
    "    if(pkt.haslayer(TCP)): # Si trame à une couche TCP\n",
    "        return True\n",
    "    else:\n",
    "        return False\n",
    "\n",
    "sniff(iface=\"Software Loopback Interface 1\", prn=maFonction, lfilter=monFiltre, count=15)"
   ]
  },
  {
   "cell_type": "markdown",
   "metadata": {},
   "source": [
    "Adresse ip source  \n",
    "Adresse Mac source"
   ]
  },
  {
   "cell_type": "code",
   "execution_count": 27,
   "metadata": {},
   "outputs": [
    {
     "name": "stdout",
     "output_type": "stream",
     "text": [
      "L'adresse ip source est : 127.0.0.1\n",
      "L'adresse ip source est : 127.0.0.1\n",
      "L'adresse ip source est : 127.0.0.1\n",
      "L'adresse ip source est : 127.0.0.1\n",
      "L'adresse ip source est : 127.0.0.1\n",
      "L'adresse ip source est : 127.0.0.1\n",
      "L'adresse ip source est : 127.0.0.1\n",
      "L'adresse ip source est : 127.0.0.1\n",
      "L'adresse ip source est : 127.0.0.1\n",
      "L'adresse ip source est : 127.0.0.1\n",
      "L'adresse ip source est : 127.0.0.1\n",
      "L'adresse ip source est : 127.0.0.1\n",
      "L'adresse ip source est : 127.0.0.1\n",
      "L'adresse ip source est : 127.0.0.1\n",
      "L'adresse ip source est : 127.0.0.1\n"
     ]
    },
    {
     "data": {
      "text/plain": [
       "<Sniffed: TCP:15 UDP:0 ICMP:0 Other:0>"
      ]
     },
     "execution_count": 27,
     "metadata": {},
     "output_type": "execute_result"
    }
   ],
   "source": [
    "\n",
    "def maFonction(trame):\n",
    "    print(\"L'adresse ip source est :\", trame[IP].src) # Détaille des trames\n",
    "    #print(\"Trame TCP avec port 443 : \", trame[TCP].dport==443) # Détaille des trames\n",
    "    #print(\"L'adresse Mac source est :\", trame[Ether].src) # Détaille des trames\n",
    "    #print(\"L'applicatif : \", trame[RAW].load)\n",
    "\n",
    "def monFiltre(pkt):\n",
    "    if(pkt.haslayer(TCP)): # Si trame à une couche TCP\n",
    "        return True\n",
    "    else:\n",
    "        return False\n",
    "\n",
    "sniff(iface=\"Software Loopback Interface 1\", prn=maFonction, filter=\"tcp\" ,lfilter=monFiltre, count=15)"
   ]
  }
 ],
 "metadata": {
  "kernelspec": {
   "display_name": "Python 3",
   "language": "python",
   "name": "python3"
  },
  "language_info": {
   "codemirror_mode": {
    "name": "ipython",
    "version": 3
   },
   "file_extension": ".py",
   "mimetype": "text/x-python",
   "name": "python",
   "nbconvert_exporter": "python",
   "pygments_lexer": "ipython3",
   "version": "3.12.3"
  }
 },
 "nbformat": 4,
 "nbformat_minor": 2
}
